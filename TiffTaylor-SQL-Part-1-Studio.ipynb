{
    "metadata": {
        "kernelspec": {
            "name": "SQL",
            "display_name": "SQL",
            "language": "sql"
        },
        "language_info": {
            "name": "sql",
            "version": ""
        },
        "extensions": {
            "azuredatastudio": {
                "version": 1,
                "views": []
            }
        }
    },
    "nbformat_minor": 2,
    "nbformat": 4,
    "cells": [
        {
            "cell_type": "markdown",
            "source": [
                "# SQL Part 1 Studio\n",
                "\n",
                "### Let's practice your SQL quering skills!  For each question, work along in the notebook adding your query and answering the questions. \n",
                "\n",
                "### **DataSet**\n",
                "\n",
                "### <span style=\"font-size: 14px; font-family: -apple-system, BlinkMacSystemFont, sans-serif;\">We will be using the Goodbooks-10k dataset from the exercises in the prep work.&nbsp; Feel free to reference your notebook.</span>\n",
                "\n",
                "- The dataset can be found here: [goodbooks-10k](https://www.kaggle.com/zygmunt/goodbooks-10k)\n",
                "- You can access the **BooksDB** in the Launchcode server.\n",
                "\n",
                "### **Business Issue**\n",
                "\n",
                "You work for a small independant book store and you want to increase sales by running various promotions.  Start by becoming more familar with the BooksDB."
            ],
            "metadata": {
                "azdata_cell_guid": "b9034d8a-b631-48bf-a895-1012a6ffa784"
            }
        },
        {
            "cell_type": "markdown",
            "source": [
                "## Part 1. BooksDB Questions\n",
                "\n",
                "<span style=\"color: rgba(0, 0, 0, 0.87); font-family: -apple-system, system-ui, &quot;Segoe UI&quot;, Helvetica, Arial, sans-serif, &quot;Apple Color Emoji&quot;, &quot;Segoe UI Emoji&quot;, &quot;Segoe UI Symbol&quot;; background-color: rgb(255, 255, 255);\">Question 1:&nbsp; Write a query of the books table, returning the TOP 100 results and&nbsp; includes, book_id, authors, title, average_rating.&nbsp; Use an alias for at least one column and in descending order of rating.&nbsp; What is the number one book?</span>"
            ],
            "metadata": {
                "azdata_cell_guid": "6e55eb1c-4a14-4076-90d2-95ed17a6309f",
                "tags": [
                    "hide_input"
                ]
            },
            "attachments": {}
        },
        {
            "cell_type": "code",
            "source": [
                "-- return top 100 results\n",
                "select top 100 book_id as \"Book ID\", authors as \"Author(s)\", title as \"Book Title\", average_rating as \"Average Rating\" from books order by average_rating desc\n",
                "\n",
                "-- The number one book is The Complete Calvin and Hobbes (but Sanderson in #2 is also a very good author)."
            ],
            "metadata": {
                "azdata_cell_guid": "470b0ca4-9a32-4b46-a42e-bbb645101769",
                "tags": [],
                "language": "sql"
            },
            "outputs": [
                {
                    "output_type": "display_data",
                    "data": {
                        "text/html": "(100 rows affected)"
                    },
                    "metadata": {}
                },
                {
                    "output_type": "display_data",
                    "data": {
                        "text/html": "Total execution time: 00:00:00.213"
                    },
                    "metadata": {}
                },
                {
                    "output_type": "execute_result",
                    "metadata": {},
                    "execution_count": 3,
                    "data": {
                        "application/vnd.dataresource+json": {
                            "schema": {
                                "fields": [
                                    {
                                        "name": "Book ID"
                                    },
                                    {
                                        "name": "Author(s)"
                                    },
                                    {
                                        "name": "Book Title"
                                    },
                                    {
                                        "name": "Average Rating"
                                    }
                                ]
                            },
                            "data": [
                                {
                                    "Book ID": "24812",
                                    "Author(s)": "Bill Watterson",
                                    "Book Title": "The Complete Calvin and Hobbes",
                                    "Average Rating": "4.82"
                                },
                                {
                                    "Book ID": "17332218",
                                    "Author(s)": "Brandon Sanderson",
                                    "Book Title": "Words of Radiance (The Stormlight Archive, #2)",
                                    "Average Rating": "4.77"
                                },
                                {
                                    "Book ID": "8",
                                    "Author(s)": "J.K. Rowling, Mary GrandPré",
                                    "Book Title": "Harry Potter Boxed Set, Books 1-5 (Harry Potter, #1-5)",
                                    "Average Rating": "4.77"
                                },
                                {
                                    "Book ID": "5031805",
                                    "Author(s)": "Anonymous, Lane T. Dennis, Wayne A. Grudem",
                                    "Book Title": "ESV Study Bible",
                                    "Average Rating": "4.76"
                                },
                                {
                                    "Book ID": "95602",
                                    "Author(s)": "Francine Rivers",
                                    "Book Title": "Mark of the Lion Trilogy",
                                    "Average Rating": "4.76"
                                },
                                {
                                    "Book ID": "24814",
                                    "Author(s)": "Bill Watterson",
                                    "Book Title": "It's a Magical World: A Calvin and Hobbes Collection",
                                    "Average Rating": "4.75"
                                },
                                {
                                    "Book ID": "862041",
                                    "Author(s)": "J.K. Rowling",
                                    "Book Title": "Harry Potter Boxset (Harry Potter, #1-7)",
                                    "Average Rating": "4.74"
                                },
                                {
                                    "Book ID": "70489",
                                    "Author(s)": "Bill Watterson",
                                    "Book Title": "There's Treasure Everywhere: A Calvin and Hobbes Collection",
                                    "Average Rating": "4.74"
                                },
                                {
                                    "Book ID": "10",
                                    "Author(s)": "J.K. Rowling",
                                    "Book Title": "Harry Potter Collection (Harry Potter, #1-6)",
                                    "Average Rating": "4.73"
                                },
                                {
                                    "Book ID": "59715",
                                    "Author(s)": "Bill Watterson",
                                    "Book Title": "The Authoritative Calvin and Hobbes: A Calvin and Hobbes Treasury",
                                    "Average Rating": "4.73"
                                },
                                {
                                    "Book ID": "24815",
                                    "Author(s)": "Bill Watterson",
                                    "Book Title": "The Indispensable Calvin and Hobbes",
                                    "Average Rating": "4.73"
                                },
                                {
                                    "Book ID": "17927395",
                                    "Author(s)": "Sarah J. Maas",
                                    "Book Title": "A Court of Mist and Fury (A Court of Thorns and Roses, #2)",
                                    "Average Rating": "4.72"
                                },
                                {
                                    "Book ID": "70487",
                                    "Author(s)": "Bill Watterson",
                                    "Book Title": "Attack of the Deranged Mutant Killer Monster Snow Goons",
                                    "Average Rating": "4.72"
                                },
                                {
                                    "Book ID": "24816",
                                    "Author(s)": "Bill Watterson",
                                    "Book Title": "Homicidal Psycho Jungle Cat: A Calvin and Hobbes Collection",
                                    "Average Rating": "4.71"
                                },
                                {
                                    "Book ID": "121792",
                                    "Author(s)": "Bill Watterson",
                                    "Book Title": "The Revenge of the Baby-Sat",
                                    "Average Rating": "4.71"
                                },
                                {
                                    "Book ID": "2350129",
                                    "Author(s)": "The Church of Jesus Christ of Latter-day Saints",
                                    "Book Title": "Preach My Gospel: A Guide To Missionary Service",
                                    "Average Rating": "4.71"
                                },
                                {
                                    "Book ID": "24818",
                                    "Author(s)": "Bill Watterson",
                                    "Book Title": "The Days Are Just Packed: A Calvin and Hobbes Collection",
                                    "Average Rating": "4.68"
                                },
                                {
                                    "Book ID": "265205",
                                    "Author(s)": "Anonymous, Ronald A. Beers, Ronald A. Beers",
                                    "Book Title": "Life Application Study Bible: NIV",
                                    "Average Rating": "4.67"
                                },
                                {
                                    "Book ID": "9329354",
                                    "Author(s)": "Brandon Sanderson",
                                    "Book Title": "The Way of Kings, Part 1 (The Stormlight Archive #1.1)",
                                    "Average Rating": "4.67"
                                },
                                {
                                    "Book ID": "99298",
                                    "Author(s)": "J.K. Rowling, Mary GrandPré",
                                    "Book Title": "The Harry Potter Collection 1-4 (Harry Potter, #1-4)",
                                    "Average Rating": "4.66"
                                },
                                {
                                    "Book ID": "5883777",
                                    "Author(s)": "Anonymous",
                                    "Book Title": "The Holy Bible: English Standard Version",
                                    "Average Rating": "4.66"
                                },
                                {
                                    "Book ID": "24494",
                                    "Author(s)": "Bill Watterson",
                                    "Book Title": "The Calvin and Hobbes Lazy Sunday Book",
                                    "Average Rating": "4.66"
                                },
                                {
                                    "Book ID": "43070",
                                    "Author(s)": "Bill Watterson",
                                    "Book Title": "The Essential Calvin and Hobbes: A Calvin and Hobbes Treasury",
                                    "Average Rating": "4.65"
                                },
                                {
                                    "Book ID": "18337259",
                                    "Author(s)": "Daniel Abraham, George R.R. Martin, Tommy Patterson",
                                    "Book Title": "A Game of Thrones: Comic Book, Issue 1",
                                    "Average Rating": "4.65"
                                },
                                {
                                    "Book ID": "23753",
                                    "Author(s)": "Neil Gaiman, Mike Dringenberg, Chris Bachalo, Michael Zulli, Kelly Jones, Charles Vess, Colleen Doran, Malcolm Jones III, Steve Parkhouse, Daniel Vozzo, Lee Loughridge, Steve Oliff, Todd Klein, Dave McKean, Sam Kieth",
                                    "Book Title": "The Absolute Sandman, Volume One",
                                    "Average Rating": "4.65"
                                },
                                {
                                    "Book ID": "7235533",
                                    "Author(s)": "Brandon Sanderson",
                                    "Book Title": "The Way of Kings (The Stormlight Archive, #1)",
                                    "Average Rating": "4.64"
                                },
                                {
                                    "Book ID": "24813",
                                    "Author(s)": "Bill Watterson",
                                    "Book Title": "The Calvin and Hobbes Tenth Anniversary Book",
                                    "Average Rating": "4.63"
                                },
                                {
                                    "Book ID": "9814682",
                                    "Author(s)": "George R.R. Martin",
                                    "Book Title": "A Song of Ice and Fire (A Song of Ice and Fire, #1-4)",
                                    "Average Rating": "4.63"
                                },
                                {
                                    "Book ID": "12177850",
                                    "Author(s)": "George R.R. Martin",
                                    "Book Title": "A Song of Ice and Fire (A Song of Ice and Fire, #1-5)",
                                    "Average Rating": "4.63"
                                },
                                {
                                    "Book ID": "481749",
                                    "Author(s)": "James E. Talmage",
                                    "Book Title": "Jesus the Christ",
                                    "Average Rating": "4.63"
                                },
                                {
                                    "Book ID": "46292",
                                    "Author(s)": "Hafez",
                                    "Book Title": "The Divan",
                                    "Average Rating": "4.63"
                                },
                                {
                                    "Book ID": "6801614",
                                    "Author(s)": "Eiichirō Oda",
                                    "Book Title": "One Piece, Volume 38: Rocketman!! (One Piece, #38)",
                                    "Average Rating": "4.63"
                                },
                                {
                                    "Book ID": "22299763",
                                    "Author(s)": "Leigh Bardugo",
                                    "Book Title": "Crooked Kingdom (Six of Crows, #2)",
                                    "Average Rating": "4.62"
                                },
                                {
                                    "Book ID": "32075671",
                                    "Author(s)": "Angie Thomas",
                                    "Book Title": "The Hate U Give",
                                    "Average Rating": "4.62"
                                },
                                {
                                    "Book ID": "136251",
                                    "Author(s)": "J.K. Rowling, Mary GrandPré",
                                    "Book Title": "Harry Potter and the Deathly Hallows (Harry Potter, #7)",
                                    "Average Rating": "4.61"
                                },
                                {
                                    "Book ID": "77727",
                                    "Author(s)": "Bill Watterson, G.B. Trudeau",
                                    "Book Title": "Calvin and Hobbes",
                                    "Average Rating": "4.61"
                                },
                                {
                                    "Book ID": "280111",
                                    "Author(s)": "Anonymous",
                                    "Book Title": "Holy Bible: New International Version",
                                    "Average Rating": "4.61"
                                },
                                {
                                    "Book ID": "2223324",
                                    "Author(s)": "John   Williams",
                                    "Book Title": "Harry Potter and the Chamber of Secrets: Sheet Music for Flute with C.D",
                                    "Average Rating": "4.61"
                                },
                                {
                                    "Book ID": "6339989",
                                    "Author(s)": "Richelle Mead",
                                    "Book Title": "Vampire Academy Collection (Vampire Academy, #1-3)",
                                    "Average Rating": "4.61"
                                },
                                {
                                    "Book ID": "596259",
                                    "Author(s)": "Gordon B. Hinckley",
                                    "Book Title": "Standing for Something: 10 Neglected Virtues That Will Heal Our Hearts and Homes",
                                    "Average Rating": "4.61"
                                },
                                {
                                    "Book ID": "47697",
                                    "Author(s)": "Alisa Kwitney, Neil Gaiman",
                                    "Book Title": "The Sandman: King of Dreams",
                                    "Average Rating": "4.61"
                                },
                                {
                                    "Book ID": "18006496",
                                    "Author(s)": "Sarah J. Maas",
                                    "Book Title": "Queen of Shadows (Throne of Glass, #4)",
                                    "Average Rating": "4.6"
                                },
                                {
                                    "Book ID": "95617",
                                    "Author(s)": "Francine Rivers, Richard Ferrone",
                                    "Book Title": "A Voice in the Wind (Mark of the Lion, #1)",
                                    "Average Rating": "4.6"
                                },
                                {
                                    "Book ID": "46601",
                                    "Author(s)": "Francine Rivers",
                                    "Book Title": "An Echo in the Darkness (Mark of the Lion, #2)",
                                    "Average Rating": "4.6"
                                },
                                {
                                    "Book ID": "7025086",
                                    "Author(s)": "Christopher Yost, Pasqual Ferry, Orson Scott Card",
                                    "Book Title": "Ender's Game, Volume 2: Command School",
                                    "Average Rating": "4.6"
                                },
                                {
                                    "Book ID": "18335634",
                                    "Author(s)": "Cassandra Clare",
                                    "Book Title": "Clockwork Princess (The Infernal Devices, #3)",
                                    "Average Rating": "4.59"
                                },
                                {
                                    "Book ID": "30",
                                    "Author(s)": "J.R.R. Tolkien",
                                    "Book Title": "J.R.R. Tolkien 4-Book Boxed Set: The Hobbit and The Lord of the Rings",
                                    "Average Rating": "4.59"
                                },
                                {
                                    "Book ID": "2299110",
                                    "Author(s)": "Sherrilyn Kenyon",
                                    "Book Title": "Acheron (Dark-Hunter #14)",
                                    "Average Rating": "4.59"
                                },
                                {
                                    "Book ID": "119",
                                    "Author(s)": "Gary Russell",
                                    "Book Title": "The Lord of the Rings: The Art of The Fellowship of the Ring",
                                    "Average Rating": "4.59"
                                },
                                {
                                    "Book ID": "71252",
                                    "Author(s)": "Neil Gaiman, Marc Hempel, Richard Case, D'Israeli, Teddy Kristiansen, Glyn Dillon, Charles Vess, Dean Ormston, Kevin Nowlan, Todd Klein, Frank McConnell",
                                    "Book Title": "The Kindly Ones (The Sandman #9)",
                                    "Average Rating": "4.59"
                                },
                                {
                                    "Book ID": "349254",
                                    "Author(s)": "Jude Fisher",
                                    "Book Title": "The Lord of the Rings: The Return of the King: Visual Companion",
                                    "Average Rating": "4.59"
                                },
                                {
                                    "Book ID": "9832370",
                                    "Author(s)": "BookRags",
                                    "Book Title": "BookRags Summary:  A Storm of Swords",
                                    "Average Rating": "4.59"
                                },
                                {
                                    "Book ID": "11106458",
                                    "Author(s)": "Cassandra Clare",
                                    "Book Title": "The Mortal Instruments (The Mortal Instruments #1-4)",
                                    "Average Rating": "4.59"
                                },
                                {
                                    "Book ID": "14367051",
                                    "Author(s)": "Cassandra Clare",
                                    "Book Title": "City of Bones / City of Ashes / City of Glass / City of Fallen Angels / City of Lost Souls (The Mortal Instruments, #1-5)",
                                    "Average Rating": "4.59"
                                },
                                {
                                    "Book ID": "28260587",
                                    "Author(s)": "Sarah J. Maas",
                                    "Book Title": "Empire of Storms (Throne of Glass, #5)",
                                    "Average Rating": "4.58"
                                },
                                {
                                    "Book ID": "3165162",
                                    "Author(s)": "Rick Riordan",
                                    "Book Title": "Percy Jackson and the Olympians (Percy Jackson and the Olympians, #1-3)",
                                    "Average Rating": "4.58"
                                },
                                {
                                    "Book ID": "20342617",
                                    "Author(s)": "Bryan Stevenson",
                                    "Book Title": "Just Mercy: A Story of Justice and Redemption",
                                    "Average Rating": "4.58"
                                },
                                {
                                    "Book ID": "17961",
                                    "Author(s)": "Jorge Luis Borges, Andrew Hurley",
                                    "Book Title": "Collected Fictions",
                                    "Average Rating": "4.58"
                                },
                                {
                                    "Book ID": "4808763",
                                    "Author(s)": "Isaac Asimov, Bob E. Flick, Jim Gallant",
                                    "Book Title": "The Last Question",
                                    "Average Rating": "4.58"
                                },
                                {
                                    "Book ID": "15767586",
                                    "Author(s)": "Sherrilyn Kenyon",
                                    "Book Title": "Styxx (Dark-Hunter, #22)",
                                    "Average Rating": "4.58"
                                },
                                {
                                    "Book ID": "892295",
                                    "Author(s)": "Arthur Conan Doyle, William S. Baring-Gould",
                                    "Book Title": "The Annotated Sherlock Holmes: The Four Novels and the Fifty-Six Short Stories Complete (2 Volume Set)",
                                    "Average Rating": "4.58"
                                },
                                {
                                    "Book ID": "1215032",
                                    "Author(s)": "Patrick Rothfuss",
                                    "Book Title": "The Wise Man's Fear (The Kingkiller Chronicle, #2)",
                                    "Average Rating": "4.57"
                                },
                                {
                                    "Book ID": "6485421",
                                    "Author(s)": "Cassandra Clare",
                                    "Book Title": "The Mortal Instruments Boxed Set: City of Bones; City of Ashes; City of Glass (The Mortal Instruments, #1-3)",
                                    "Average Rating": "4.57"
                                },
                                {
                                    "Book ID": "17131869",
                                    "Author(s)": "Brian K. Vaughan, Fiona Staples",
                                    "Book Title": "Saga, Vol. 2 (Saga, #2)",
                                    "Average Rating": "4.57"
                                },
                                {
                                    "Book ID": "8718952",
                                    "Author(s)": "Richelle Mead",
                                    "Book Title": "Vampire Academy Box Set (Vampire Academy, #1-4)",
                                    "Average Rating": "4.57"
                                },
                                {
                                    "Book ID": "4634266",
                                    "Author(s)": "Masashi Kishimoto",
                                    "Book Title": "NARUTO -ナルト- 巻ノ四十三",
                                    "Average Rating": "4.57"
                                },
                                {
                                    "Book ID": "6443349",
                                    "Author(s)": "Rick Riordan, Tk",
                                    "Book Title": "Percy Jackson and the Olympians Boxed Set (Percy Jackson and the Olympians, #1-5)",
                                    "Average Rating": "4.57"
                                },
                                {
                                    "Book ID": "545425",
                                    "Author(s)": "Safiy al-Rahman al-Mubarakfuri",
                                    "Book Title": "الرحيق المختوم",
                                    "Average Rating": "4.57"
                                },
                                {
                                    "Book ID": "17333174",
                                    "Author(s)": "Ilona Andrews",
                                    "Book Title": "Magic Binds (Kate Daniels, #9)",
                                    "Average Rating": "4.57"
                                },
                                {
                                    "Book ID": "147915",
                                    "Author(s)": "George R.R. Martin",
                                    "Book Title": "A Storm of Swords: Blood and Gold (A Song of Ice and Fire, #3: Part 2 of 2)",
                                    "Average Rating": "4.56"
                                },
                                {
                                    "Book ID": "19358975",
                                    "Author(s)": "Brian K. Vaughan, Fiona Staples",
                                    "Book Title": "Saga, Vol. 3 (Saga, #3)",
                                    "Average Rating": "4.56"
                                },
                                {
                                    "Book ID": "10785687",
                                    "Author(s)": "Bob McCabe",
                                    "Book Title": "Harry Potter Page to Screen: The Complete Filmmaking Journey",
                                    "Average Rating": "4.56"
                                },
                                {
                                    "Book ID": "17880714",
                                    "Author(s)": "K. Bromberg",
                                    "Book Title": "Crashed (Driven, #3)",
                                    "Average Rating": "4.56"
                                },
                                {
                                    "Book ID": "1317181",
                                    "Author(s)": "J.K. Rowling",
                                    "Book Title": "Harry Potter and the Order of the Phoenix (Harry Potter, #5, Part 1)",
                                    "Average Rating": "4.56"
                                },
                                {
                                    "Book ID": "15743078",
                                    "Author(s)": "Veronica Roth",
                                    "Book Title": "The Divergent Series 2-Book Collection (Divergent, #1-2)",
                                    "Average Rating": "4.56"
                                },
                                {
                                    "Book ID": "29236299",
                                    "Author(s)": "Amie Kaufman, Jay Kristoff, Marie Lu",
                                    "Book Title": "Gemina (The Illuminae Files, #2)",
                                    "Average Rating": "4.56"
                                },
                                {
                                    "Book ID": "186074",
                                    "Author(s)": "Patrick Rothfuss",
                                    "Book Title": "The Name of the Wind (The Kingkiller Chronicle, #1)",
                                    "Average Rating": "4.55"
                                },
                                {
                                    "Book ID": "19486421",
                                    "Author(s)": "Jim Butcher",
                                    "Book Title": "Skin Game (The Dresden Files, #15)",
                                    "Average Rating": "4.55"
                                },
                                {
                                    "Book ID": "6604209",
                                    "Author(s)": "Brandon Sanderson",
                                    "Book Title": "Mistborn Trilogy Boxed Set (Mistborn, #1-3)",
                                    "Average Rating": "4.55"
                                },
                                {
                                    "Book ID": "25105",
                                    "Author(s)": "Neil Gaiman, Jill Thompson, Vince Locke, Peter Straub",
                                    "Book Title": "Brief Lives (The Sandman #7)",
                                    "Average Rating": "4.55"
                                },
                                {
                                    "Book ID": "8346300",
                                    "Author(s)": "Andrew Williamson, Andrew Williamson",
                                    "Book Title": "Harry Potter: A Pop-Up Book: Based on the Film Phenomenon",
                                    "Average Rating": "4.55"
                                },
                                {
                                    "Book ID": "14905",
                                    "Author(s)": "Jane Austen",
                                    "Book Title": "The Complete Novels",
                                    "Average Rating": "4.55"
                                },
                                {
                                    "Book ID": "13184992",
                                    "Author(s)": "Kristen Ashley",
                                    "Book Title": "Rock Chick Regret (Rock Chick, #7)",
                                    "Average Rating": "4.55"
                                },
                                {
                                    "Book ID": "71823",
                                    "Author(s)": "Stephen King",
                                    "Book Title": "The Green Mile, Part 6: Coffey on the Mile",
                                    "Average Rating": "4.55"
                                },
                                {
                                    "Book ID": "1",
                                    "Author(s)": "J.K. Rowling, Mary GrandPré",
                                    "Book Title": "Harry Potter and the Half-Blood Prince (Harry Potter, #6)",
                                    "Average Rating": "4.54"
                                },
                                {
                                    "Book ID": "62291",
                                    "Author(s)": "George R.R. Martin",
                                    "Book Title": "A Storm of Swords (A Song of Ice and Fire, #3)",
                                    "Average Rating": "4.54"
                                },
                                {
                                    "Book ID": "21853621",
                                    "Author(s)": "Kristin Hannah",
                                    "Book Title": "The Nightingale",
                                    "Average Rating": "4.54"
                                },
                                {
                                    "Book ID": "12127810",
                                    "Author(s)": "Rick Riordan",
                                    "Book Title": "The House of Hades (The Heroes of Olympus, #4)",
                                    "Average Rating": "4.54"
                                },
                                {
                                    "Book ID": "6585201",
                                    "Author(s)": "Jim Butcher",
                                    "Book Title": "Changes (The Dresden Files, #12)",
                                    "Average Rating": "4.54"
                                },
                                {
                                    "Book ID": "381421",
                                    "Author(s)": "Sarah  Young",
                                    "Book Title": "Jesus Calling: Enjoying Peace in His Presence",
                                    "Average Rating": "4.54"
                                },
                                {
                                    "Book ID": "25101",
                                    "Author(s)": "Neil Gaiman, Matt Wagner, George Pratt, Dick Giordano, Kelley Jones, P. Craig Russell, Mike Dringenberg, Malcolm Jones III, Todd Klein, Harlan Ellison",
                                    "Book Title": "Season of Mists (The Sandman #4)",
                                    "Average Rating": "4.54"
                                },
                                {
                                    "Book ID": "89959",
                                    "Author(s)": "Founding Fathers",
                                    "Book Title": "The Constitution of the United States of America",
                                    "Average Rating": "4.54"
                                },
                                {
                                    "Book ID": "23766634",
                                    "Author(s)": "Sarah J. Maas",
                                    "Book Title": "A Court of Wings and Ruin (A Court of Thorns and Roses, #3)",
                                    "Average Rating": "4.54"
                                },
                                {
                                    "Book ID": "20706320",
                                    "Author(s)": "Chris Colfer, Brandon Dorman",
                                    "Book Title": "A Grimm Warning (The Land of Stories, #3)",
                                    "Average Rating": "4.54"
                                },
                                {
                                    "Book ID": "8163161",
                                    "Author(s)": "Bisco Hatori",
                                    "Book Title": "Ouran High School Host Club, Vol. 15 (Ouran High School Host Club, #15)",
                                    "Average Rating": "4.54"
                                },
                                {
                                    "Book ID": "5",
                                    "Author(s)": "J.K. Rowling, Mary GrandPré, Rufus Beck",
                                    "Book Title": "Harry Potter and the Prisoner of Azkaban (Harry Potter, #3)",
                                    "Average Rating": "4.53"
                                },
                                {
                                    "Book ID": "6",
                                    "Author(s)": "J.K. Rowling, Mary GrandPré",
                                    "Book Title": "Harry Potter and the Goblet of Fire (Harry Potter, #4)",
                                    "Average Rating": "4.53"
                                },
                                {
                                    "Book ID": "20613470",
                                    "Author(s)": "Sarah J. Maas",
                                    "Book Title": "Heir of Fire (Throne of Glass, #3)",
                                    "Average Rating": "4.53"
                                },
                                {
                                    "Book ID": "15195",
                                    "Author(s)": "Art Spiegelman",
                                    "Book Title": "The Complete Maus (Maus, #1-2)",
                                    "Average Rating": "4.53"
                                },
                                {
                                    "Book ID": "25104",
                                    "Author(s)": "Neil Gaiman, Michael Zulli, Jon J. Muth, Charles Vess, Mikal Gilmore",
                                    "Book Title": "The Wake (The Sandman #10)",
                                    "Average Rating": "4.53"
                                }
                            ]
                        },
                        "text/html": [
                            "<table>",
                            "<tr><th>Book ID</th><th>Author(s)</th><th>Book Title</th><th>Average Rating</th></tr>",
                            "<tr><td>24812</td><td>Bill Watterson</td><td>The Complete Calvin and Hobbes</td><td>4.82</td></tr>",
                            "<tr><td>17332218</td><td>Brandon Sanderson</td><td>Words of Radiance (The Stormlight Archive, #2)</td><td>4.77</td></tr>",
                            "<tr><td>8</td><td>J.K. Rowling, Mary GrandPré</td><td>Harry Potter Boxed Set, Books 1-5 (Harry Potter, #1-5)</td><td>4.77</td></tr>",
                            "<tr><td>5031805</td><td>Anonymous, Lane T. Dennis, Wayne A. Grudem</td><td>ESV Study Bible</td><td>4.76</td></tr>",
                            "<tr><td>95602</td><td>Francine Rivers</td><td>Mark of the Lion Trilogy</td><td>4.76</td></tr>",
                            "<tr><td>24814</td><td>Bill Watterson</td><td>It's a Magical World: A Calvin and Hobbes Collection</td><td>4.75</td></tr>",
                            "<tr><td>862041</td><td>J.K. Rowling</td><td>Harry Potter Boxset (Harry Potter, #1-7)</td><td>4.74</td></tr>",
                            "<tr><td>70489</td><td>Bill Watterson</td><td>There's Treasure Everywhere: A Calvin and Hobbes Collection</td><td>4.74</td></tr>",
                            "<tr><td>10</td><td>J.K. Rowling</td><td>Harry Potter Collection (Harry Potter, #1-6)</td><td>4.73</td></tr>",
                            "<tr><td>59715</td><td>Bill Watterson</td><td>The Authoritative Calvin and Hobbes: A Calvin and Hobbes Treasury</td><td>4.73</td></tr>",
                            "<tr><td>24815</td><td>Bill Watterson</td><td>The Indispensable Calvin and Hobbes</td><td>4.73</td></tr>",
                            "<tr><td>17927395</td><td>Sarah J. Maas</td><td>A Court of Mist and Fury (A Court of Thorns and Roses, #2)</td><td>4.72</td></tr>",
                            "<tr><td>70487</td><td>Bill Watterson</td><td>Attack of the Deranged Mutant Killer Monster Snow Goons</td><td>4.72</td></tr>",
                            "<tr><td>24816</td><td>Bill Watterson</td><td>Homicidal Psycho Jungle Cat: A Calvin and Hobbes Collection</td><td>4.71</td></tr>",
                            "<tr><td>121792</td><td>Bill Watterson</td><td>The Revenge of the Baby-Sat</td><td>4.71</td></tr>",
                            "<tr><td>2350129</td><td>The Church of Jesus Christ of Latter-day Saints</td><td>Preach My Gospel: A Guide To Missionary Service</td><td>4.71</td></tr>",
                            "<tr><td>24818</td><td>Bill Watterson</td><td>The Days Are Just Packed: A Calvin and Hobbes Collection</td><td>4.68</td></tr>",
                            "<tr><td>265205</td><td>Anonymous, Ronald A. Beers, Ronald A. Beers</td><td>Life Application Study Bible: NIV</td><td>4.67</td></tr>",
                            "<tr><td>9329354</td><td>Brandon Sanderson</td><td>The Way of Kings, Part 1 (The Stormlight Archive #1.1)</td><td>4.67</td></tr>",
                            "<tr><td>99298</td><td>J.K. Rowling, Mary GrandPré</td><td>The Harry Potter Collection 1-4 (Harry Potter, #1-4)</td><td>4.66</td></tr>",
                            "<tr><td>5883777</td><td>Anonymous</td><td>The Holy Bible: English Standard Version</td><td>4.66</td></tr>",
                            "<tr><td>24494</td><td>Bill Watterson</td><td>The Calvin and Hobbes Lazy Sunday Book</td><td>4.66</td></tr>",
                            "<tr><td>43070</td><td>Bill Watterson</td><td>The Essential Calvin and Hobbes: A Calvin and Hobbes Treasury</td><td>4.65</td></tr>",
                            "<tr><td>18337259</td><td>Daniel Abraham, George R.R. Martin, Tommy Patterson</td><td>A Game of Thrones: Comic Book, Issue 1</td><td>4.65</td></tr>",
                            "<tr><td>23753</td><td>Neil Gaiman, Mike Dringenberg, Chris Bachalo, Michael Zulli, Kelly Jones, Charles Vess, Colleen Doran, Malcolm Jones III, Steve Parkhouse, Daniel Vozzo, Lee Loughridge, Steve Oliff, Todd Klein, Dave McKean, Sam Kieth</td><td>The Absolute Sandman, Volume One</td><td>4.65</td></tr>",
                            "<tr><td>7235533</td><td>Brandon Sanderson</td><td>The Way of Kings (The Stormlight Archive, #1)</td><td>4.64</td></tr>",
                            "<tr><td>24813</td><td>Bill Watterson</td><td>The Calvin and Hobbes Tenth Anniversary Book</td><td>4.63</td></tr>",
                            "<tr><td>9814682</td><td>George R.R. Martin</td><td>A Song of Ice and Fire (A Song of Ice and Fire, #1-4)</td><td>4.63</td></tr>",
                            "<tr><td>12177850</td><td>George R.R. Martin</td><td>A Song of Ice and Fire (A Song of Ice and Fire, #1-5)</td><td>4.63</td></tr>",
                            "<tr><td>481749</td><td>James E. Talmage</td><td>Jesus the Christ</td><td>4.63</td></tr>",
                            "<tr><td>46292</td><td>Hafez</td><td>The Divan</td><td>4.63</td></tr>",
                            "<tr><td>6801614</td><td>Eiichirō Oda</td><td>One Piece, Volume 38: Rocketman!! (One Piece, #38)</td><td>4.63</td></tr>",
                            "<tr><td>22299763</td><td>Leigh Bardugo</td><td>Crooked Kingdom (Six of Crows, #2)</td><td>4.62</td></tr>",
                            "<tr><td>32075671</td><td>Angie Thomas</td><td>The Hate U Give</td><td>4.62</td></tr>",
                            "<tr><td>136251</td><td>J.K. Rowling, Mary GrandPré</td><td>Harry Potter and the Deathly Hallows (Harry Potter, #7)</td><td>4.61</td></tr>",
                            "<tr><td>77727</td><td>Bill Watterson, G.B. Trudeau</td><td>Calvin and Hobbes</td><td>4.61</td></tr>",
                            "<tr><td>280111</td><td>Anonymous</td><td>Holy Bible: New International Version</td><td>4.61</td></tr>",
                            "<tr><td>2223324</td><td>John   Williams</td><td>Harry Potter and the Chamber of Secrets: Sheet Music for Flute with C.D</td><td>4.61</td></tr>",
                            "<tr><td>6339989</td><td>Richelle Mead</td><td>Vampire Academy Collection (Vampire Academy, #1-3)</td><td>4.61</td></tr>",
                            "<tr><td>596259</td><td>Gordon B. Hinckley</td><td>Standing for Something: 10 Neglected Virtues That Will Heal Our Hearts and Homes</td><td>4.61</td></tr>",
                            "<tr><td>47697</td><td>Alisa Kwitney, Neil Gaiman</td><td>The Sandman: King of Dreams</td><td>4.61</td></tr>",
                            "<tr><td>18006496</td><td>Sarah J. Maas</td><td>Queen of Shadows (Throne of Glass, #4)</td><td>4.6</td></tr>",
                            "<tr><td>95617</td><td>Francine Rivers, Richard Ferrone</td><td>A Voice in the Wind (Mark of the Lion, #1)</td><td>4.6</td></tr>",
                            "<tr><td>46601</td><td>Francine Rivers</td><td>An Echo in the Darkness (Mark of the Lion, #2)</td><td>4.6</td></tr>",
                            "<tr><td>7025086</td><td>Christopher Yost, Pasqual Ferry, Orson Scott Card</td><td>Ender's Game, Volume 2: Command School</td><td>4.6</td></tr>",
                            "<tr><td>18335634</td><td>Cassandra Clare</td><td>Clockwork Princess (The Infernal Devices, #3)</td><td>4.59</td></tr>",
                            "<tr><td>30</td><td>J.R.R. Tolkien</td><td>J.R.R. Tolkien 4-Book Boxed Set: The Hobbit and The Lord of the Rings</td><td>4.59</td></tr>",
                            "<tr><td>2299110</td><td>Sherrilyn Kenyon</td><td>Acheron (Dark-Hunter #14)</td><td>4.59</td></tr>",
                            "<tr><td>119</td><td>Gary Russell</td><td>The Lord of the Rings: The Art of The Fellowship of the Ring</td><td>4.59</td></tr>",
                            "<tr><td>71252</td><td>Neil Gaiman, Marc Hempel, Richard Case, D'Israeli, Teddy Kristiansen, Glyn Dillon, Charles Vess, Dean Ormston, Kevin Nowlan, Todd Klein, Frank McConnell</td><td>The Kindly Ones (The Sandman #9)</td><td>4.59</td></tr>",
                            "<tr><td>349254</td><td>Jude Fisher</td><td>The Lord of the Rings: The Return of the King: Visual Companion</td><td>4.59</td></tr>",
                            "<tr><td>9832370</td><td>BookRags</td><td>BookRags Summary:  A Storm of Swords</td><td>4.59</td></tr>",
                            "<tr><td>11106458</td><td>Cassandra Clare</td><td>The Mortal Instruments (The Mortal Instruments #1-4)</td><td>4.59</td></tr>",
                            "<tr><td>14367051</td><td>Cassandra Clare</td><td>City of Bones / City of Ashes / City of Glass / City of Fallen Angels / City of Lost Souls (The Mortal Instruments, #1-5)</td><td>4.59</td></tr>",
                            "<tr><td>28260587</td><td>Sarah J. Maas</td><td>Empire of Storms (Throne of Glass, #5)</td><td>4.58</td></tr>",
                            "<tr><td>3165162</td><td>Rick Riordan</td><td>Percy Jackson and the Olympians (Percy Jackson and the Olympians, #1-3)</td><td>4.58</td></tr>",
                            "<tr><td>20342617</td><td>Bryan Stevenson</td><td>Just Mercy: A Story of Justice and Redemption</td><td>4.58</td></tr>",
                            "<tr><td>17961</td><td>Jorge Luis Borges, Andrew Hurley</td><td>Collected Fictions</td><td>4.58</td></tr>",
                            "<tr><td>4808763</td><td>Isaac Asimov, Bob E. Flick, Jim Gallant</td><td>The Last Question</td><td>4.58</td></tr>",
                            "<tr><td>15767586</td><td>Sherrilyn Kenyon</td><td>Styxx (Dark-Hunter, #22)</td><td>4.58</td></tr>",
                            "<tr><td>892295</td><td>Arthur Conan Doyle, William S. Baring-Gould</td><td>The Annotated Sherlock Holmes: The Four Novels and the Fifty-Six Short Stories Complete (2 Volume Set)</td><td>4.58</td></tr>",
                            "<tr><td>1215032</td><td>Patrick Rothfuss</td><td>The Wise Man's Fear (The Kingkiller Chronicle, #2)</td><td>4.57</td></tr>",
                            "<tr><td>6485421</td><td>Cassandra Clare</td><td>The Mortal Instruments Boxed Set: City of Bones; City of Ashes; City of Glass (The Mortal Instruments, #1-3)</td><td>4.57</td></tr>",
                            "<tr><td>17131869</td><td>Brian K. Vaughan, Fiona Staples</td><td>Saga, Vol. 2 (Saga, #2)</td><td>4.57</td></tr>",
                            "<tr><td>8718952</td><td>Richelle Mead</td><td>Vampire Academy Box Set (Vampire Academy, #1-4)</td><td>4.57</td></tr>",
                            "<tr><td>4634266</td><td>Masashi Kishimoto</td><td>NARUTO -ナルト- 巻ノ四十三</td><td>4.57</td></tr>",
                            "<tr><td>6443349</td><td>Rick Riordan, Tk</td><td>Percy Jackson and the Olympians Boxed Set (Percy Jackson and the Olympians, #1-5)</td><td>4.57</td></tr>",
                            "<tr><td>545425</td><td>Safiy al-Rahman al-Mubarakfuri</td><td>الرحيق المختوم</td><td>4.57</td></tr>",
                            "<tr><td>17333174</td><td>Ilona Andrews</td><td>Magic Binds (Kate Daniels, #9)</td><td>4.57</td></tr>",
                            "<tr><td>147915</td><td>George R.R. Martin</td><td>A Storm of Swords: Blood and Gold (A Song of Ice and Fire, #3: Part 2 of 2)</td><td>4.56</td></tr>",
                            "<tr><td>19358975</td><td>Brian K. Vaughan, Fiona Staples</td><td>Saga, Vol. 3 (Saga, #3)</td><td>4.56</td></tr>",
                            "<tr><td>10785687</td><td>Bob McCabe</td><td>Harry Potter Page to Screen: The Complete Filmmaking Journey</td><td>4.56</td></tr>",
                            "<tr><td>17880714</td><td>K. Bromberg</td><td>Crashed (Driven, #3)</td><td>4.56</td></tr>",
                            "<tr><td>1317181</td><td>J.K. Rowling</td><td>Harry Potter and the Order of the Phoenix (Harry Potter, #5, Part 1)</td><td>4.56</td></tr>",
                            "<tr><td>15743078</td><td>Veronica Roth</td><td>The Divergent Series 2-Book Collection (Divergent, #1-2)</td><td>4.56</td></tr>",
                            "<tr><td>29236299</td><td>Amie Kaufman, Jay Kristoff, Marie Lu</td><td>Gemina (The Illuminae Files, #2)</td><td>4.56</td></tr>",
                            "<tr><td>186074</td><td>Patrick Rothfuss</td><td>The Name of the Wind (The Kingkiller Chronicle, #1)</td><td>4.55</td></tr>",
                            "<tr><td>19486421</td><td>Jim Butcher</td><td>Skin Game (The Dresden Files, #15)</td><td>4.55</td></tr>",
                            "<tr><td>6604209</td><td>Brandon Sanderson</td><td>Mistborn Trilogy Boxed Set (Mistborn, #1-3)</td><td>4.55</td></tr>",
                            "<tr><td>25105</td><td>Neil Gaiman, Jill Thompson, Vince Locke, Peter Straub</td><td>Brief Lives (The Sandman #7)</td><td>4.55</td></tr>",
                            "<tr><td>8346300</td><td>Andrew Williamson, Andrew Williamson</td><td>Harry Potter: A Pop-Up Book: Based on the Film Phenomenon</td><td>4.55</td></tr>",
                            "<tr><td>14905</td><td>Jane Austen</td><td>The Complete Novels</td><td>4.55</td></tr>",
                            "<tr><td>13184992</td><td>Kristen Ashley</td><td>Rock Chick Regret (Rock Chick, #7)</td><td>4.55</td></tr>",
                            "<tr><td>71823</td><td>Stephen King</td><td>The Green Mile, Part 6: Coffey on the Mile</td><td>4.55</td></tr>",
                            "<tr><td>1</td><td>J.K. Rowling, Mary GrandPré</td><td>Harry Potter and the Half-Blood Prince (Harry Potter, #6)</td><td>4.54</td></tr>",
                            "<tr><td>62291</td><td>George R.R. Martin</td><td>A Storm of Swords (A Song of Ice and Fire, #3)</td><td>4.54</td></tr>",
                            "<tr><td>21853621</td><td>Kristin Hannah</td><td>The Nightingale</td><td>4.54</td></tr>",
                            "<tr><td>12127810</td><td>Rick Riordan</td><td>The House of Hades (The Heroes of Olympus, #4)</td><td>4.54</td></tr>",
                            "<tr><td>6585201</td><td>Jim Butcher</td><td>Changes (The Dresden Files, #12)</td><td>4.54</td></tr>",
                            "<tr><td>381421</td><td>Sarah  Young</td><td>Jesus Calling: Enjoying Peace in His Presence</td><td>4.54</td></tr>",
                            "<tr><td>25101</td><td>Neil Gaiman, Matt Wagner, George Pratt, Dick Giordano, Kelley Jones, P. Craig Russell, Mike Dringenberg, Malcolm Jones III, Todd Klein, Harlan Ellison</td><td>Season of Mists (The Sandman #4)</td><td>4.54</td></tr>",
                            "<tr><td>89959</td><td>Founding Fathers</td><td>The Constitution of the United States of America</td><td>4.54</td></tr>",
                            "<tr><td>23766634</td><td>Sarah J. Maas</td><td>A Court of Wings and Ruin (A Court of Thorns and Roses, #3)</td><td>4.54</td></tr>",
                            "<tr><td>20706320</td><td>Chris Colfer, Brandon Dorman</td><td>A Grimm Warning (The Land of Stories, #3)</td><td>4.54</td></tr>",
                            "<tr><td>8163161</td><td>Bisco Hatori</td><td>Ouran High School Host Club, Vol. 15 (Ouran High School Host Club, #15)</td><td>4.54</td></tr>",
                            "<tr><td>5</td><td>J.K. Rowling, Mary GrandPré, Rufus Beck</td><td>Harry Potter and the Prisoner of Azkaban (Harry Potter, #3)</td><td>4.53</td></tr>",
                            "<tr><td>6</td><td>J.K. Rowling, Mary GrandPré</td><td>Harry Potter and the Goblet of Fire (Harry Potter, #4)</td><td>4.53</td></tr>",
                            "<tr><td>20613470</td><td>Sarah J. Maas</td><td>Heir of Fire (Throne of Glass, #3)</td><td>4.53</td></tr>",
                            "<tr><td>15195</td><td>Art Spiegelman</td><td>The Complete Maus (Maus, #1-2)</td><td>4.53</td></tr>",
                            "<tr><td>25104</td><td>Neil Gaiman, Michael Zulli, Jon J. Muth, Charles Vess, Mikal Gilmore</td><td>The Wake (The Sandman #10)</td><td>4.53</td></tr>",
                            "</table>"
                        ]
                    }
                }
            ],
            "execution_count": 3
        },
        {
            "cell_type": "markdown",
            "source": [
                "Question 2: Write a query to find the least popular book."
            ],
            "metadata": {
                "azdata_cell_guid": "777429b8-8622-489d-9c49-e2acecd7f17e"
            },
            "attachments": {}
        },
        {
            "cell_type": "code",
            "source": [
                "-- return least popular book\n",
                "select top 1 title as \"Book Title\", average_rating as \"Average Rating\" from books order by average_rating asc"
            ],
            "metadata": {
                "azdata_cell_guid": "c78a1779-db74-470f-a60a-7c72a43d774b",
                "language": "sql"
            },
            "outputs": [
                {
                    "output_type": "display_data",
                    "data": {
                        "text/html": "(1 row affected)"
                    },
                    "metadata": {}
                },
                {
                    "output_type": "display_data",
                    "data": {
                        "text/html": "Total execution time: 00:00:00.083"
                    },
                    "metadata": {}
                },
                {
                    "output_type": "execute_result",
                    "metadata": {},
                    "execution_count": 5,
                    "data": {
                        "application/vnd.dataresource+json": {
                            "schema": {
                                "fields": [
                                    {
                                        "name": "Book Title"
                                    },
                                    {
                                        "name": "Average Rating"
                                    }
                                ]
                            },
                            "data": [
                                {
                                    "Book Title": "One Night at the Call Center",
                                    "Average Rating": "2.47"
                                }
                            ]
                        },
                        "text/html": [
                            "<table>",
                            "<tr><th>Book Title</th><th>Average Rating</th></tr>",
                            "<tr><td>One Night at the Call Center</td><td>2.47</td></tr>",
                            "</table>"
                        ]
                    }
                }
            ],
            "execution_count": 5
        },
        {
            "cell_type": "markdown",
            "source": [
                "Question 3: Which tag is the most popular?"
            ],
            "metadata": {
                "azdata_cell_guid": "a370909d-5d64-49e2-8fec-5220730c8ca7"
            },
            "attachments": {}
        },
        {
            "cell_type": "code",
            "source": [
                "-- return most popular tag\n",
                "select top 1 tag_id as \"Most Popular Tag\", count as \"Times Used\" from book_tags order by count desc"
            ],
            "metadata": {
                "azdata_cell_guid": "9e0451dc-c4d3-4775-9eb1-904854f459ff",
                "tags": [],
                "language": "sql"
            },
            "outputs": [
                {
                    "output_type": "display_data",
                    "data": {
                        "text/html": "(1 row affected)"
                    },
                    "metadata": {}
                },
                {
                    "output_type": "display_data",
                    "data": {
                        "text/html": "Total execution time: 00:00:00.302"
                    },
                    "metadata": {}
                },
                {
                    "output_type": "execute_result",
                    "metadata": {},
                    "execution_count": 7,
                    "data": {
                        "application/vnd.dataresource+json": {
                            "schema": {
                                "fields": [
                                    {
                                        "name": "Most Popular Tag"
                                    },
                                    {
                                        "name": "Times Used"
                                    }
                                ]
                            },
                            "data": [
                                {
                                    "Most Popular Tag": "30574",
                                    "Times Used": "596234"
                                }
                            ]
                        },
                        "text/html": [
                            "<table>",
                            "<tr><th>Most Popular Tag</th><th>Times Used</th></tr>",
                            "<tr><td>30574</td><td>596234</td></tr>",
                            "</table>"
                        ]
                    }
                }
            ],
            "execution_count": 7
        },
        {
            "cell_type": "markdown",
            "source": [
                "Question 4: What is the name of the most popular tag?"
            ],
            "metadata": {
                "azdata_cell_guid": "3cdfa7e6-c5a6-49fb-aa27-afeece881627"
            },
            "attachments": {}
        },
        {
            "cell_type": "code",
            "source": [
                "-- return name of most popular tag\n",
                "select tag_id as \"Tag ID\", tag_name as \"Most Popular Tag\" from tags where tag_id = '30574'"
            ],
            "metadata": {
                "azdata_cell_guid": "3cd3a3ec-4ce2-49b6-b714-44179eed00e1",
                "language": "sql"
            },
            "outputs": [
                {
                    "output_type": "display_data",
                    "data": {
                        "text/html": "(1 row affected)"
                    },
                    "metadata": {}
                },
                {
                    "output_type": "display_data",
                    "data": {
                        "text/html": "Total execution time: 00:00:00.064"
                    },
                    "metadata": {}
                },
                {
                    "output_type": "execute_result",
                    "metadata": {},
                    "execution_count": 10,
                    "data": {
                        "application/vnd.dataresource+json": {
                            "schema": {
                                "fields": [
                                    {
                                        "name": "Tag ID"
                                    },
                                    {
                                        "name": "Most Popular Tag"
                                    }
                                ]
                            },
                            "data": [
                                {
                                    "Tag ID": "30574",
                                    "Most Popular Tag": "to-read"
                                }
                            ]
                        },
                        "text/html": [
                            "<table>",
                            "<tr><th>Tag ID</th><th>Most Popular Tag</th></tr>",
                            "<tr><td>30574</td><td>to-read</td></tr>",
                            "</table>"
                        ]
                    }
                }
            ],
            "execution_count": 10
        },
        {
            "cell_type": "markdown",
            "source": [
                "Question 5: How many books where released in the first decade of 2000?"
            ],
            "metadata": {
                "azdata_cell_guid": "b3962545-c0c2-47ca-a3c4-299c2c0a4b0c"
            },
            "attachments": {}
        },
        {
            "cell_type": "code",
            "source": [
                "-- return number of books published in the first decade of 2000\n",
                "select count(*) from books where original_publication_year between 2000 and 2010"
            ],
            "metadata": {
                "azdata_cell_guid": "8dcd65e9-1b3e-4cf8-b726-26729a1225f2",
                "language": "sql"
            },
            "outputs": [
                {
                    "output_type": "display_data",
                    "data": {
                        "text/html": "(1 row affected)"
                    },
                    "metadata": {}
                },
                {
                    "output_type": "display_data",
                    "data": {
                        "text/html": "Total execution time: 00:00:00.117"
                    },
                    "metadata": {}
                },
                {
                    "output_type": "execute_result",
                    "metadata": {},
                    "execution_count": 13,
                    "data": {
                        "application/vnd.dataresource+json": {
                            "schema": {
                                "fields": [
                                    {
                                        "name": "(No column name)"
                                    }
                                ]
                            },
                            "data": [
                                {
                                    "(No column name)": "3594"
                                }
                            ]
                        },
                        "text/html": [
                            "<table>",
                            "<tr><th>(No column name)</th></tr>",
                            "<tr><td>3594</td></tr>",
                            "</table>"
                        ]
                    }
                }
            ],
            "execution_count": 13
        },
        {
            "cell_type": "markdown",
            "source": [
                "Question 6: How many book titles contain the word Happy?"
            ],
            "metadata": {
                "azdata_cell_guid": "5080d6de-2775-4055-97ae-f93fce97a426"
            },
            "attachments": {}
        },
        {
            "cell_type": "code",
            "source": [
                "-- return number of books that contain the word Happy\n",
                "select count(original_title) from books where original_title like '%happy%'"
            ],
            "metadata": {
                "azdata_cell_guid": "f55f18b9-91b1-4761-ad8c-4758434d7827",
                "language": "sql"
            },
            "outputs": [
                {
                    "output_type": "display_data",
                    "data": {
                        "text/html": "(1 row affected)"
                    },
                    "metadata": {}
                },
                {
                    "output_type": "display_data",
                    "data": {
                        "text/html": "Total execution time: 00:00:00.164"
                    },
                    "metadata": {}
                },
                {
                    "output_type": "execute_result",
                    "metadata": {},
                    "execution_count": 15,
                    "data": {
                        "application/vnd.dataresource+json": {
                            "schema": {
                                "fields": [
                                    {
                                        "name": "(No column name)"
                                    }
                                ]
                            },
                            "data": [
                                {
                                    "(No column name)": "11"
                                }
                            ]
                        },
                        "text/html": [
                            "<table>",
                            "<tr><th>(No column name)</th></tr>",
                            "<tr><td>11</td></tr>",
                            "</table>"
                        ]
                    }
                }
            ],
            "execution_count": 15
        },
        {
            "cell_type": "markdown",
            "source": [
                "Question 7: List the books from the top 3 authors from question 1.  If there is more than one author just use the first one. Sort the titles <span style=\"background-color: rgba(127, 127, 127, 0.1); font-family: -apple-system, BlinkMacSystemFont, sans-serif;\">alphabetically by author and then by average_rating, best rated to lowest. Does order matter in sorting?</span>"
            ],
            "metadata": {
                "azdata_cell_guid": "d38270ef-da5a-42b4-802a-506acb8b9e4b"
            },
            "attachments": {}
        },
        {
            "cell_type": "code",
            "source": [
                "-- return all books from the top 3 authors, sort by author and rating\n",
                "select title as \"Book Title\", authors as \"Author(s)\", average_rating as \"Average Rating\" from books where authors like '%Bill Watterson%' or authors like '%Brandon Sanderson%' or authors like '%J.K. Rowling%' order by authors asc, average_rating desc\n",
                "select title as \"Book Title\", authors as \"Author(s)\", average_rating as \"Average Rating\" from books where authors like '%Bill Watterson%' or authors like '%Brandon Sanderson%' or authors like '%J.K. Rowling%' order by average_rating desc, authors asc\n",
                "\n",
                "-- Order does matter with sorting. The first table is sorted correctly while the second table is out of author-order."
            ],
            "metadata": {
                "azdata_cell_guid": "47466fac-5d8d-491d-bd3c-2f8496f55e6b",
                "language": "sql"
            },
            "outputs": [
                {
                    "output_type": "display_data",
                    "data": {
                        "text/html": "(65 rows affected)"
                    },
                    "metadata": {}
                },
                {
                    "output_type": "display_data",
                    "data": {
                        "text/html": "(65 rows affected)"
                    },
                    "metadata": {}
                },
                {
                    "output_type": "display_data",
                    "data": {
                        "text/html": "Total execution time: 00:00:00.528"
                    },
                    "metadata": {}
                },
                {
                    "output_type": "execute_result",
                    "metadata": {},
                    "execution_count": 39,
                    "data": {
                        "application/vnd.dataresource+json": {
                            "schema": {
                                "fields": [
                                    {
                                        "name": "Book Title"
                                    },
                                    {
                                        "name": "Author(s)"
                                    },
                                    {
                                        "name": "Average Rating"
                                    }
                                ]
                            },
                            "data": [
                                {
                                    "Book Title": "The Complete Calvin and Hobbes",
                                    "Author(s)": "Bill Watterson",
                                    "Average Rating": "4.82"
                                },
                                {
                                    "Book Title": "It's a Magical World: A Calvin and Hobbes Collection",
                                    "Author(s)": "Bill Watterson",
                                    "Average Rating": "4.75"
                                },
                                {
                                    "Book Title": "There's Treasure Everywhere: A Calvin and Hobbes Collection",
                                    "Author(s)": "Bill Watterson",
                                    "Average Rating": "4.74"
                                },
                                {
                                    "Book Title": "The Authoritative Calvin and Hobbes: A Calvin and Hobbes Treasury",
                                    "Author(s)": "Bill Watterson",
                                    "Average Rating": "4.73"
                                },
                                {
                                    "Book Title": "The Indispensable Calvin and Hobbes",
                                    "Author(s)": "Bill Watterson",
                                    "Average Rating": "4.73"
                                },
                                {
                                    "Book Title": "Attack of the Deranged Mutant Killer Monster Snow Goons",
                                    "Author(s)": "Bill Watterson",
                                    "Average Rating": "4.72"
                                },
                                {
                                    "Book Title": "The Revenge of the Baby-Sat",
                                    "Author(s)": "Bill Watterson",
                                    "Average Rating": "4.71"
                                },
                                {
                                    "Book Title": "Homicidal Psycho Jungle Cat: A Calvin and Hobbes Collection",
                                    "Author(s)": "Bill Watterson",
                                    "Average Rating": "4.71"
                                },
                                {
                                    "Book Title": "The Days Are Just Packed: A Calvin and Hobbes Collection",
                                    "Author(s)": "Bill Watterson",
                                    "Average Rating": "4.68"
                                },
                                {
                                    "Book Title": "The Calvin and Hobbes Lazy Sunday Book",
                                    "Author(s)": "Bill Watterson",
                                    "Average Rating": "4.66"
                                },
                                {
                                    "Book Title": "The Essential Calvin and Hobbes: A Calvin and Hobbes Treasury",
                                    "Author(s)": "Bill Watterson",
                                    "Average Rating": "4.65"
                                },
                                {
                                    "Book Title": "The Calvin and Hobbes Tenth Anniversary Book",
                                    "Author(s)": "Bill Watterson",
                                    "Average Rating": "4.63"
                                },
                                {
                                    "Book Title": "Calvin and Hobbes",
                                    "Author(s)": "Bill Watterson, G.B. Trudeau",
                                    "Average Rating": "4.61"
                                },
                                {
                                    "Book Title": "Words of Radiance (The Stormlight Archive, #2)",
                                    "Author(s)": "Brandon Sanderson",
                                    "Average Rating": "4.77"
                                },
                                {
                                    "Book Title": "The Way of Kings, Part 1 (The Stormlight Archive #1.1)",
                                    "Author(s)": "Brandon Sanderson",
                                    "Average Rating": "4.67"
                                },
                                {
                                    "Book Title": "The Way of Kings (The Stormlight Archive, #1)",
                                    "Author(s)": "Brandon Sanderson",
                                    "Average Rating": "4.64"
                                },
                                {
                                    "Book Title": "Mistborn Trilogy Boxed Set (Mistborn, #1-3)",
                                    "Author(s)": "Brandon Sanderson",
                                    "Average Rating": "4.55"
                                },
                                {
                                    "Book Title": "The Hero of Ages (Mistborn, #3)",
                                    "Author(s)": "Brandon Sanderson",
                                    "Average Rating": "4.46"
                                },
                                {
                                    "Book Title": "The Bands of Mourning (Mistborn, #6)",
                                    "Author(s)": "Brandon Sanderson",
                                    "Average Rating": "4.45"
                                },
                                {
                                    "Book Title": "The Final Empire (Mistborn, #1)",
                                    "Author(s)": "Brandon Sanderson",
                                    "Average Rating": "4.43"
                                },
                                {
                                    "Book Title": "Secret History (Mistborn, #3.5)",
                                    "Author(s)": "Brandon Sanderson",
                                    "Average Rating": "4.38"
                                },
                                {
                                    "Book Title": "The Well of Ascension (Mistborn, #2)",
                                    "Author(s)": "Brandon Sanderson",
                                    "Average Rating": "4.35"
                                },
                                {
                                    "Book Title": "The Emperor's Soul",
                                    "Author(s)": "Brandon Sanderson",
                                    "Average Rating": "4.33"
                                },
                                {
                                    "Book Title": "Shadows of Self (Mistborn, #5)",
                                    "Author(s)": "Brandon Sanderson",
                                    "Average Rating": "4.3"
                                },
                                {
                                    "Book Title": "Firefight (The Reckoners, #2)",
                                    "Author(s)": "Brandon Sanderson",
                                    "Average Rating": "4.29"
                                },
                                {
                                    "Book Title": "The Rithmatist (The Rithmatist, #1)",
                                    "Author(s)": "Brandon Sanderson",
                                    "Average Rating": "4.25"
                                },
                                {
                                    "Book Title": "Warbreaker (Warbreaker, #1)",
                                    "Author(s)": "Brandon Sanderson",
                                    "Average Rating": "4.22"
                                },
                                {
                                    "Book Title": "Calamity (The Reckoners, #3)",
                                    "Author(s)": "Brandon Sanderson",
                                    "Average Rating": "4.2"
                                },
                                {
                                    "Book Title": "The Alloy of Law (Mistborn, #4)",
                                    "Author(s)": "Brandon Sanderson",
                                    "Average Rating": "4.2"
                                },
                                {
                                    "Book Title": "Elantris (Elantris, #1)",
                                    "Author(s)": "Brandon Sanderson",
                                    "Average Rating": "4.17"
                                },
                                {
                                    "Book Title": "Steelheart (The Reckoners, #1)",
                                    "Author(s)": "Brandon Sanderson",
                                    "Average Rating": "4.16"
                                },
                                {
                                    "Book Title": "Legion (Legion, #1)",
                                    "Author(s)": "Brandon Sanderson",
                                    "Average Rating": "4.13"
                                },
                                {
                                    "Book Title": "Mitosis (The Reckoners, #1.5)",
                                    "Author(s)": "Brandon Sanderson",
                                    "Average Rating": "3.87"
                                },
                                {
                                    "Book Title": "Alcatraz Versus the Evil Librarians (Alcatraz, #1)",
                                    "Author(s)": "Brandon Sanderson",
                                    "Average Rating": "3.87"
                                },
                                {
                                    "Book Title": "Skin Deep (Legion, #2)",
                                    "Author(s)": "Brandon Sanderson, Jon Foster",
                                    "Average Rating": "4.11"
                                },
                                {
                                    "Book Title": "Harry Potter Boxset (Harry Potter, #1-7)",
                                    "Author(s)": "J.K. Rowling",
                                    "Average Rating": "4.74"
                                },
                                {
                                    "Book Title": "Harry Potter Collection (Harry Potter, #1-6)",
                                    "Author(s)": "J.K. Rowling",
                                    "Average Rating": "4.73"
                                },
                                {
                                    "Book Title": "Harry Potter and the Order of the Phoenix (Harry Potter, #5, Part 1)",
                                    "Author(s)": "J.K. Rowling",
                                    "Average Rating": "4.56"
                                },
                                {
                                    "Book Title": "Fantastic Beasts and Where to Find Them: The Original Screenplay",
                                    "Author(s)": "J.K. Rowling",
                                    "Average Rating": "4.41"
                                },
                                {
                                    "Book Title": "Harry Potter Schoolbooks Box Set: Two Classic Books from the Library of Hogwarts School of Witchcraft and Wizardry",
                                    "Author(s)": "J.K. Rowling",
                                    "Average Rating": "4.4"
                                },
                                {
                                    "Book Title": "Hogwarts: An Incomplete and Unreliable Guide (Pottermore Presents, #3)",
                                    "Author(s)": "J.K. Rowling",
                                    "Average Rating": "4.21"
                                },
                                {
                                    "Book Title": "The Tales of Beedle the Bard",
                                    "Author(s)": "J.K. Rowling",
                                    "Average Rating": "4.06"
                                },
                                {
                                    "Book Title": "The Casual Vacancy",
                                    "Author(s)": "J.K. Rowling",
                                    "Average Rating": "3.28"
                                },
                                {
                                    "Book Title": "Very Good Lives: The Fringe Benefits of Failure and the Importance of Imagination",
                                    "Author(s)": "J.K. Rowling, Joel Holland",
                                    "Average Rating": "4.26"
                                },
                                {
                                    "Book Title": "Harry Potter Boxed Set, Books 1-5 (Harry Potter, #1-5)",
                                    "Author(s)": "J.K. Rowling, Mary GrandPré",
                                    "Average Rating": "4.77"
                                },
                                {
                                    "Book Title": "The Harry Potter Collection 1-4 (Harry Potter, #1-4)",
                                    "Author(s)": "J.K. Rowling, Mary GrandPré",
                                    "Average Rating": "4.66"
                                },
                                {
                                    "Book Title": "Harry Potter and the Deathly Hallows (Harry Potter, #7)",
                                    "Author(s)": "J.K. Rowling, Mary GrandPré",
                                    "Average Rating": "4.61"
                                },
                                {
                                    "Book Title": "Harry Potter and the Half-Blood Prince (Harry Potter, #6)",
                                    "Author(s)": "J.K. Rowling, Mary GrandPré",
                                    "Average Rating": "4.54"
                                },
                                {
                                    "Book Title": "Harry Potter and the Goblet of Fire (Harry Potter, #4)",
                                    "Author(s)": "J.K. Rowling, Mary GrandPré",
                                    "Average Rating": "4.53"
                                },
                                {
                                    "Book Title": "Harry Potter and the Order of the Phoenix (Harry Potter, #5)",
                                    "Author(s)": "J.K. Rowling, Mary GrandPré",
                                    "Average Rating": "4.46"
                                },
                                {
                                    "Book Title": "Harry Potter and the Sorcerer's Stone (Harry Potter, #1)",
                                    "Author(s)": "J.K. Rowling, Mary GrandPré",
                                    "Average Rating": "4.44"
                                },
                                {
                                    "Book Title": "Harry Potter and the Chamber of Secrets (Harry Potter, #2)",
                                    "Author(s)": "J.K. Rowling, Mary GrandPré",
                                    "Average Rating": "4.37"
                                },
                                {
                                    "Book Title": "Harry Potter and the Prisoner of Azkaban (Harry Potter, #3)",
                                    "Author(s)": "J.K. Rowling, Mary GrandPré, Rufus Beck",
                                    "Average Rating": "4.53"
                                },
                                {
                                    "Book Title": "Short Stories from Hogwarts of Heroism, Hardship and Dangerous Hobbies (Pottermore Presents, #1)",
                                    "Author(s)": "J.K. Rowling, MinaLima",
                                    "Average Rating": "4.22"
                                },
                                {
                                    "Book Title": "Short Stories from Hogwarts of Power, Politics and Pesky Poltergeists (Pottermore Presents, #2)",
                                    "Author(s)": "J.K. Rowling, MinaLima",
                                    "Average Rating": "4.2"
                                },
                                {
                                    "Book Title": "Harry Potter and the Cursed Child - Parts One and Two (Harry Potter, #8)",
                                    "Author(s)": "John Tiffany, Jack Thorne, J.K. Rowling",
                                    "Average Rating": "3.75"
                                },
                                {
                                    "Book Title": "Quidditch Through the Ages",
                                    "Author(s)": "Kennilworthy Whisp, J.K. Rowling",
                                    "Average Rating": "3.85"
                                },
                                {
                                    "Book Title": "Harry, a History: The True Story of a Boy Wizard, His Fans, and Life Inside the Harry Potter Phenomenon",
                                    "Author(s)": "Melissa Anelli, J.K. Rowling",
                                    "Average Rating": "4.09"
                                },
                                {
                                    "Book Title": "Fantastic Beasts and Where to Find Them",
                                    "Author(s)": "Newt Scamander, J.K. Rowling, Albus Dumbledore",
                                    "Average Rating": "3.95"
                                },
                                {
                                    "Book Title": "Career of Evil (Cormoran Strike, #3)",
                                    "Author(s)": "Robert Galbraith, J.K. Rowling",
                                    "Average Rating": "4.21"
                                },
                                {
                                    "Book Title": "The Silkworm (Cormoran Strike, #2)",
                                    "Author(s)": "Robert Galbraith, J.K. Rowling",
                                    "Average Rating": "4.03"
                                },
                                {
                                    "Book Title": "The Cuckoo's Calling (Cormoran Strike, #1)",
                                    "Author(s)": "Robert Galbraith, J.K. Rowling",
                                    "Average Rating": "3.83"
                                },
                                {
                                    "Book Title": "A Memory of Light (Wheel of Time, #14)",
                                    "Author(s)": "Robert Jordan, Brandon Sanderson",
                                    "Average Rating": "4.5"
                                },
                                {
                                    "Book Title": "Towers of Midnight (Wheel of Time, #13)",
                                    "Author(s)": "Robert Jordan, Brandon Sanderson",
                                    "Average Rating": "4.42"
                                },
                                {
                                    "Book Title": "The Gathering Storm (Wheel of Time, #12)",
                                    "Author(s)": "Robert Jordan, Brandon Sanderson",
                                    "Average Rating": "4.34"
                                }
                            ]
                        },
                        "text/html": [
                            "<table>",
                            "<tr><th>Book Title</th><th>Author(s)</th><th>Average Rating</th></tr>",
                            "<tr><td>The Complete Calvin and Hobbes</td><td>Bill Watterson</td><td>4.82</td></tr>",
                            "<tr><td>It's a Magical World: A Calvin and Hobbes Collection</td><td>Bill Watterson</td><td>4.75</td></tr>",
                            "<tr><td>There's Treasure Everywhere: A Calvin and Hobbes Collection</td><td>Bill Watterson</td><td>4.74</td></tr>",
                            "<tr><td>The Authoritative Calvin and Hobbes: A Calvin and Hobbes Treasury</td><td>Bill Watterson</td><td>4.73</td></tr>",
                            "<tr><td>The Indispensable Calvin and Hobbes</td><td>Bill Watterson</td><td>4.73</td></tr>",
                            "<tr><td>Attack of the Deranged Mutant Killer Monster Snow Goons</td><td>Bill Watterson</td><td>4.72</td></tr>",
                            "<tr><td>The Revenge of the Baby-Sat</td><td>Bill Watterson</td><td>4.71</td></tr>",
                            "<tr><td>Homicidal Psycho Jungle Cat: A Calvin and Hobbes Collection</td><td>Bill Watterson</td><td>4.71</td></tr>",
                            "<tr><td>The Days Are Just Packed: A Calvin and Hobbes Collection</td><td>Bill Watterson</td><td>4.68</td></tr>",
                            "<tr><td>The Calvin and Hobbes Lazy Sunday Book</td><td>Bill Watterson</td><td>4.66</td></tr>",
                            "<tr><td>The Essential Calvin and Hobbes: A Calvin and Hobbes Treasury</td><td>Bill Watterson</td><td>4.65</td></tr>",
                            "<tr><td>The Calvin and Hobbes Tenth Anniversary Book</td><td>Bill Watterson</td><td>4.63</td></tr>",
                            "<tr><td>Calvin and Hobbes</td><td>Bill Watterson, G.B. Trudeau</td><td>4.61</td></tr>",
                            "<tr><td>Words of Radiance (The Stormlight Archive, #2)</td><td>Brandon Sanderson</td><td>4.77</td></tr>",
                            "<tr><td>The Way of Kings, Part 1 (The Stormlight Archive #1.1)</td><td>Brandon Sanderson</td><td>4.67</td></tr>",
                            "<tr><td>The Way of Kings (The Stormlight Archive, #1)</td><td>Brandon Sanderson</td><td>4.64</td></tr>",
                            "<tr><td>Mistborn Trilogy Boxed Set (Mistborn, #1-3)</td><td>Brandon Sanderson</td><td>4.55</td></tr>",
                            "<tr><td>The Hero of Ages (Mistborn, #3)</td><td>Brandon Sanderson</td><td>4.46</td></tr>",
                            "<tr><td>The Bands of Mourning (Mistborn, #6)</td><td>Brandon Sanderson</td><td>4.45</td></tr>",
                            "<tr><td>The Final Empire (Mistborn, #1)</td><td>Brandon Sanderson</td><td>4.43</td></tr>",
                            "<tr><td>Secret History (Mistborn, #3.5)</td><td>Brandon Sanderson</td><td>4.38</td></tr>",
                            "<tr><td>The Well of Ascension (Mistborn, #2)</td><td>Brandon Sanderson</td><td>4.35</td></tr>",
                            "<tr><td>The Emperor's Soul</td><td>Brandon Sanderson</td><td>4.33</td></tr>",
                            "<tr><td>Shadows of Self (Mistborn, #5)</td><td>Brandon Sanderson</td><td>4.3</td></tr>",
                            "<tr><td>Firefight (The Reckoners, #2)</td><td>Brandon Sanderson</td><td>4.29</td></tr>",
                            "<tr><td>The Rithmatist (The Rithmatist, #1)</td><td>Brandon Sanderson</td><td>4.25</td></tr>",
                            "<tr><td>Warbreaker (Warbreaker, #1)</td><td>Brandon Sanderson</td><td>4.22</td></tr>",
                            "<tr><td>Calamity (The Reckoners, #3)</td><td>Brandon Sanderson</td><td>4.2</td></tr>",
                            "<tr><td>The Alloy of Law (Mistborn, #4)</td><td>Brandon Sanderson</td><td>4.2</td></tr>",
                            "<tr><td>Elantris (Elantris, #1)</td><td>Brandon Sanderson</td><td>4.17</td></tr>",
                            "<tr><td>Steelheart (The Reckoners, #1)</td><td>Brandon Sanderson</td><td>4.16</td></tr>",
                            "<tr><td>Legion (Legion, #1)</td><td>Brandon Sanderson</td><td>4.13</td></tr>",
                            "<tr><td>Mitosis (The Reckoners, #1.5)</td><td>Brandon Sanderson</td><td>3.87</td></tr>",
                            "<tr><td>Alcatraz Versus the Evil Librarians (Alcatraz, #1)</td><td>Brandon Sanderson</td><td>3.87</td></tr>",
                            "<tr><td>Skin Deep (Legion, #2)</td><td>Brandon Sanderson, Jon Foster</td><td>4.11</td></tr>",
                            "<tr><td>Harry Potter Boxset (Harry Potter, #1-7)</td><td>J.K. Rowling</td><td>4.74</td></tr>",
                            "<tr><td>Harry Potter Collection (Harry Potter, #1-6)</td><td>J.K. Rowling</td><td>4.73</td></tr>",
                            "<tr><td>Harry Potter and the Order of the Phoenix (Harry Potter, #5, Part 1)</td><td>J.K. Rowling</td><td>4.56</td></tr>",
                            "<tr><td>Fantastic Beasts and Where to Find Them: The Original Screenplay</td><td>J.K. Rowling</td><td>4.41</td></tr>",
                            "<tr><td>Harry Potter Schoolbooks Box Set: Two Classic Books from the Library of Hogwarts School of Witchcraft and Wizardry</td><td>J.K. Rowling</td><td>4.4</td></tr>",
                            "<tr><td>Hogwarts: An Incomplete and Unreliable Guide (Pottermore Presents, #3)</td><td>J.K. Rowling</td><td>4.21</td></tr>",
                            "<tr><td>The Tales of Beedle the Bard</td><td>J.K. Rowling</td><td>4.06</td></tr>",
                            "<tr><td>The Casual Vacancy</td><td>J.K. Rowling</td><td>3.28</td></tr>",
                            "<tr><td>Very Good Lives: The Fringe Benefits of Failure and the Importance of Imagination</td><td>J.K. Rowling, Joel Holland</td><td>4.26</td></tr>",
                            "<tr><td>Harry Potter Boxed Set, Books 1-5 (Harry Potter, #1-5)</td><td>J.K. Rowling, Mary GrandPré</td><td>4.77</td></tr>",
                            "<tr><td>The Harry Potter Collection 1-4 (Harry Potter, #1-4)</td><td>J.K. Rowling, Mary GrandPré</td><td>4.66</td></tr>",
                            "<tr><td>Harry Potter and the Deathly Hallows (Harry Potter, #7)</td><td>J.K. Rowling, Mary GrandPré</td><td>4.61</td></tr>",
                            "<tr><td>Harry Potter and the Half-Blood Prince (Harry Potter, #6)</td><td>J.K. Rowling, Mary GrandPré</td><td>4.54</td></tr>",
                            "<tr><td>Harry Potter and the Goblet of Fire (Harry Potter, #4)</td><td>J.K. Rowling, Mary GrandPré</td><td>4.53</td></tr>",
                            "<tr><td>Harry Potter and the Order of the Phoenix (Harry Potter, #5)</td><td>J.K. Rowling, Mary GrandPré</td><td>4.46</td></tr>",
                            "<tr><td>Harry Potter and the Sorcerer's Stone (Harry Potter, #1)</td><td>J.K. Rowling, Mary GrandPré</td><td>4.44</td></tr>",
                            "<tr><td>Harry Potter and the Chamber of Secrets (Harry Potter, #2)</td><td>J.K. Rowling, Mary GrandPré</td><td>4.37</td></tr>",
                            "<tr><td>Harry Potter and the Prisoner of Azkaban (Harry Potter, #3)</td><td>J.K. Rowling, Mary GrandPré, Rufus Beck</td><td>4.53</td></tr>",
                            "<tr><td>Short Stories from Hogwarts of Heroism, Hardship and Dangerous Hobbies (Pottermore Presents, #1)</td><td>J.K. Rowling, MinaLima</td><td>4.22</td></tr>",
                            "<tr><td>Short Stories from Hogwarts of Power, Politics and Pesky Poltergeists (Pottermore Presents, #2)</td><td>J.K. Rowling, MinaLima</td><td>4.2</td></tr>",
                            "<tr><td>Harry Potter and the Cursed Child - Parts One and Two (Harry Potter, #8)</td><td>John Tiffany, Jack Thorne, J.K. Rowling</td><td>3.75</td></tr>",
                            "<tr><td>Quidditch Through the Ages</td><td>Kennilworthy Whisp, J.K. Rowling</td><td>3.85</td></tr>",
                            "<tr><td>Harry, a History: The True Story of a Boy Wizard, His Fans, and Life Inside the Harry Potter Phenomenon</td><td>Melissa Anelli, J.K. Rowling</td><td>4.09</td></tr>",
                            "<tr><td>Fantastic Beasts and Where to Find Them</td><td>Newt Scamander, J.K. Rowling, Albus Dumbledore</td><td>3.95</td></tr>",
                            "<tr><td>Career of Evil (Cormoran Strike, #3)</td><td>Robert Galbraith, J.K. Rowling</td><td>4.21</td></tr>",
                            "<tr><td>The Silkworm (Cormoran Strike, #2)</td><td>Robert Galbraith, J.K. Rowling</td><td>4.03</td></tr>",
                            "<tr><td>The Cuckoo's Calling (Cormoran Strike, #1)</td><td>Robert Galbraith, J.K. Rowling</td><td>3.83</td></tr>",
                            "<tr><td>A Memory of Light (Wheel of Time, #14)</td><td>Robert Jordan, Brandon Sanderson</td><td>4.5</td></tr>",
                            "<tr><td>Towers of Midnight (Wheel of Time, #13)</td><td>Robert Jordan, Brandon Sanderson</td><td>4.42</td></tr>",
                            "<tr><td>The Gathering Storm (Wheel of Time, #12)</td><td>Robert Jordan, Brandon Sanderson</td><td>4.34</td></tr>",
                            "</table>"
                        ]
                    }
                },
                {
                    "output_type": "execute_result",
                    "metadata": {},
                    "execution_count": 39,
                    "data": {
                        "application/vnd.dataresource+json": {
                            "schema": {
                                "fields": [
                                    {
                                        "name": "Book Title"
                                    },
                                    {
                                        "name": "Author(s)"
                                    },
                                    {
                                        "name": "Average Rating"
                                    }
                                ]
                            },
                            "data": [
                                {
                                    "Book Title": "The Complete Calvin and Hobbes",
                                    "Author(s)": "Bill Watterson",
                                    "Average Rating": "4.82"
                                },
                                {
                                    "Book Title": "Words of Radiance (The Stormlight Archive, #2)",
                                    "Author(s)": "Brandon Sanderson",
                                    "Average Rating": "4.77"
                                },
                                {
                                    "Book Title": "Harry Potter Boxed Set, Books 1-5 (Harry Potter, #1-5)",
                                    "Author(s)": "J.K. Rowling, Mary GrandPré",
                                    "Average Rating": "4.77"
                                },
                                {
                                    "Book Title": "It's a Magical World: A Calvin and Hobbes Collection",
                                    "Author(s)": "Bill Watterson",
                                    "Average Rating": "4.75"
                                },
                                {
                                    "Book Title": "There's Treasure Everywhere: A Calvin and Hobbes Collection",
                                    "Author(s)": "Bill Watterson",
                                    "Average Rating": "4.74"
                                },
                                {
                                    "Book Title": "Harry Potter Boxset (Harry Potter, #1-7)",
                                    "Author(s)": "J.K. Rowling",
                                    "Average Rating": "4.74"
                                },
                                {
                                    "Book Title": "The Authoritative Calvin and Hobbes: A Calvin and Hobbes Treasury",
                                    "Author(s)": "Bill Watterson",
                                    "Average Rating": "4.73"
                                },
                                {
                                    "Book Title": "The Indispensable Calvin and Hobbes",
                                    "Author(s)": "Bill Watterson",
                                    "Average Rating": "4.73"
                                },
                                {
                                    "Book Title": "Harry Potter Collection (Harry Potter, #1-6)",
                                    "Author(s)": "J.K. Rowling",
                                    "Average Rating": "4.73"
                                },
                                {
                                    "Book Title": "Attack of the Deranged Mutant Killer Monster Snow Goons",
                                    "Author(s)": "Bill Watterson",
                                    "Average Rating": "4.72"
                                },
                                {
                                    "Book Title": "The Revenge of the Baby-Sat",
                                    "Author(s)": "Bill Watterson",
                                    "Average Rating": "4.71"
                                },
                                {
                                    "Book Title": "Homicidal Psycho Jungle Cat: A Calvin and Hobbes Collection",
                                    "Author(s)": "Bill Watterson",
                                    "Average Rating": "4.71"
                                },
                                {
                                    "Book Title": "The Days Are Just Packed: A Calvin and Hobbes Collection",
                                    "Author(s)": "Bill Watterson",
                                    "Average Rating": "4.68"
                                },
                                {
                                    "Book Title": "The Way of Kings, Part 1 (The Stormlight Archive #1.1)",
                                    "Author(s)": "Brandon Sanderson",
                                    "Average Rating": "4.67"
                                },
                                {
                                    "Book Title": "The Calvin and Hobbes Lazy Sunday Book",
                                    "Author(s)": "Bill Watterson",
                                    "Average Rating": "4.66"
                                },
                                {
                                    "Book Title": "The Harry Potter Collection 1-4 (Harry Potter, #1-4)",
                                    "Author(s)": "J.K. Rowling, Mary GrandPré",
                                    "Average Rating": "4.66"
                                },
                                {
                                    "Book Title": "The Essential Calvin and Hobbes: A Calvin and Hobbes Treasury",
                                    "Author(s)": "Bill Watterson",
                                    "Average Rating": "4.65"
                                },
                                {
                                    "Book Title": "The Way of Kings (The Stormlight Archive, #1)",
                                    "Author(s)": "Brandon Sanderson",
                                    "Average Rating": "4.64"
                                },
                                {
                                    "Book Title": "The Calvin and Hobbes Tenth Anniversary Book",
                                    "Author(s)": "Bill Watterson",
                                    "Average Rating": "4.63"
                                },
                                {
                                    "Book Title": "Calvin and Hobbes",
                                    "Author(s)": "Bill Watterson, G.B. Trudeau",
                                    "Average Rating": "4.61"
                                },
                                {
                                    "Book Title": "Harry Potter and the Deathly Hallows (Harry Potter, #7)",
                                    "Author(s)": "J.K. Rowling, Mary GrandPré",
                                    "Average Rating": "4.61"
                                },
                                {
                                    "Book Title": "Harry Potter and the Order of the Phoenix (Harry Potter, #5, Part 1)",
                                    "Author(s)": "J.K. Rowling",
                                    "Average Rating": "4.56"
                                },
                                {
                                    "Book Title": "Mistborn Trilogy Boxed Set (Mistborn, #1-3)",
                                    "Author(s)": "Brandon Sanderson",
                                    "Average Rating": "4.55"
                                },
                                {
                                    "Book Title": "Harry Potter and the Half-Blood Prince (Harry Potter, #6)",
                                    "Author(s)": "J.K. Rowling, Mary GrandPré",
                                    "Average Rating": "4.54"
                                },
                                {
                                    "Book Title": "Harry Potter and the Goblet of Fire (Harry Potter, #4)",
                                    "Author(s)": "J.K. Rowling, Mary GrandPré",
                                    "Average Rating": "4.53"
                                },
                                {
                                    "Book Title": "Harry Potter and the Prisoner of Azkaban (Harry Potter, #3)",
                                    "Author(s)": "J.K. Rowling, Mary GrandPré, Rufus Beck",
                                    "Average Rating": "4.53"
                                },
                                {
                                    "Book Title": "A Memory of Light (Wheel of Time, #14)",
                                    "Author(s)": "Robert Jordan, Brandon Sanderson",
                                    "Average Rating": "4.5"
                                },
                                {
                                    "Book Title": "The Hero of Ages (Mistborn, #3)",
                                    "Author(s)": "Brandon Sanderson",
                                    "Average Rating": "4.46"
                                },
                                {
                                    "Book Title": "Harry Potter and the Order of the Phoenix (Harry Potter, #5)",
                                    "Author(s)": "J.K. Rowling, Mary GrandPré",
                                    "Average Rating": "4.46"
                                },
                                {
                                    "Book Title": "The Bands of Mourning (Mistborn, #6)",
                                    "Author(s)": "Brandon Sanderson",
                                    "Average Rating": "4.45"
                                },
                                {
                                    "Book Title": "Harry Potter and the Sorcerer's Stone (Harry Potter, #1)",
                                    "Author(s)": "J.K. Rowling, Mary GrandPré",
                                    "Average Rating": "4.44"
                                },
                                {
                                    "Book Title": "The Final Empire (Mistborn, #1)",
                                    "Author(s)": "Brandon Sanderson",
                                    "Average Rating": "4.43"
                                },
                                {
                                    "Book Title": "Towers of Midnight (Wheel of Time, #13)",
                                    "Author(s)": "Robert Jordan, Brandon Sanderson",
                                    "Average Rating": "4.42"
                                },
                                {
                                    "Book Title": "Fantastic Beasts and Where to Find Them: The Original Screenplay",
                                    "Author(s)": "J.K. Rowling",
                                    "Average Rating": "4.41"
                                },
                                {
                                    "Book Title": "Harry Potter Schoolbooks Box Set: Two Classic Books from the Library of Hogwarts School of Witchcraft and Wizardry",
                                    "Author(s)": "J.K. Rowling",
                                    "Average Rating": "4.4"
                                },
                                {
                                    "Book Title": "Secret History (Mistborn, #3.5)",
                                    "Author(s)": "Brandon Sanderson",
                                    "Average Rating": "4.38"
                                },
                                {
                                    "Book Title": "Harry Potter and the Chamber of Secrets (Harry Potter, #2)",
                                    "Author(s)": "J.K. Rowling, Mary GrandPré",
                                    "Average Rating": "4.37"
                                },
                                {
                                    "Book Title": "The Well of Ascension (Mistborn, #2)",
                                    "Author(s)": "Brandon Sanderson",
                                    "Average Rating": "4.35"
                                },
                                {
                                    "Book Title": "The Gathering Storm (Wheel of Time, #12)",
                                    "Author(s)": "Robert Jordan, Brandon Sanderson",
                                    "Average Rating": "4.34"
                                },
                                {
                                    "Book Title": "The Emperor's Soul",
                                    "Author(s)": "Brandon Sanderson",
                                    "Average Rating": "4.33"
                                },
                                {
                                    "Book Title": "Shadows of Self (Mistborn, #5)",
                                    "Author(s)": "Brandon Sanderson",
                                    "Average Rating": "4.3"
                                },
                                {
                                    "Book Title": "Firefight (The Reckoners, #2)",
                                    "Author(s)": "Brandon Sanderson",
                                    "Average Rating": "4.29"
                                },
                                {
                                    "Book Title": "Very Good Lives: The Fringe Benefits of Failure and the Importance of Imagination",
                                    "Author(s)": "J.K. Rowling, Joel Holland",
                                    "Average Rating": "4.26"
                                },
                                {
                                    "Book Title": "The Rithmatist (The Rithmatist, #1)",
                                    "Author(s)": "Brandon Sanderson",
                                    "Average Rating": "4.25"
                                },
                                {
                                    "Book Title": "Warbreaker (Warbreaker, #1)",
                                    "Author(s)": "Brandon Sanderson",
                                    "Average Rating": "4.22"
                                },
                                {
                                    "Book Title": "Short Stories from Hogwarts of Heroism, Hardship and Dangerous Hobbies (Pottermore Presents, #1)",
                                    "Author(s)": "J.K. Rowling, MinaLima",
                                    "Average Rating": "4.22"
                                },
                                {
                                    "Book Title": "Hogwarts: An Incomplete and Unreliable Guide (Pottermore Presents, #3)",
                                    "Author(s)": "J.K. Rowling",
                                    "Average Rating": "4.21"
                                },
                                {
                                    "Book Title": "Career of Evil (Cormoran Strike, #3)",
                                    "Author(s)": "Robert Galbraith, J.K. Rowling",
                                    "Average Rating": "4.21"
                                },
                                {
                                    "Book Title": "The Alloy of Law (Mistborn, #4)",
                                    "Author(s)": "Brandon Sanderson",
                                    "Average Rating": "4.2"
                                },
                                {
                                    "Book Title": "Calamity (The Reckoners, #3)",
                                    "Author(s)": "Brandon Sanderson",
                                    "Average Rating": "4.2"
                                },
                                {
                                    "Book Title": "Short Stories from Hogwarts of Power, Politics and Pesky Poltergeists (Pottermore Presents, #2)",
                                    "Author(s)": "J.K. Rowling, MinaLima",
                                    "Average Rating": "4.2"
                                },
                                {
                                    "Book Title": "Elantris (Elantris, #1)",
                                    "Author(s)": "Brandon Sanderson",
                                    "Average Rating": "4.17"
                                },
                                {
                                    "Book Title": "Steelheart (The Reckoners, #1)",
                                    "Author(s)": "Brandon Sanderson",
                                    "Average Rating": "4.16"
                                },
                                {
                                    "Book Title": "Legion (Legion, #1)",
                                    "Author(s)": "Brandon Sanderson",
                                    "Average Rating": "4.13"
                                },
                                {
                                    "Book Title": "Skin Deep (Legion, #2)",
                                    "Author(s)": "Brandon Sanderson, Jon Foster",
                                    "Average Rating": "4.11"
                                },
                                {
                                    "Book Title": "Harry, a History: The True Story of a Boy Wizard, His Fans, and Life Inside the Harry Potter Phenomenon",
                                    "Author(s)": "Melissa Anelli, J.K. Rowling",
                                    "Average Rating": "4.09"
                                },
                                {
                                    "Book Title": "The Tales of Beedle the Bard",
                                    "Author(s)": "J.K. Rowling",
                                    "Average Rating": "4.06"
                                },
                                {
                                    "Book Title": "The Silkworm (Cormoran Strike, #2)",
                                    "Author(s)": "Robert Galbraith, J.K. Rowling",
                                    "Average Rating": "4.03"
                                },
                                {
                                    "Book Title": "Fantastic Beasts and Where to Find Them",
                                    "Author(s)": "Newt Scamander, J.K. Rowling, Albus Dumbledore",
                                    "Average Rating": "3.95"
                                },
                                {
                                    "Book Title": "Alcatraz Versus the Evil Librarians (Alcatraz, #1)",
                                    "Author(s)": "Brandon Sanderson",
                                    "Average Rating": "3.87"
                                },
                                {
                                    "Book Title": "Mitosis (The Reckoners, #1.5)",
                                    "Author(s)": "Brandon Sanderson",
                                    "Average Rating": "3.87"
                                },
                                {
                                    "Book Title": "Quidditch Through the Ages",
                                    "Author(s)": "Kennilworthy Whisp, J.K. Rowling",
                                    "Average Rating": "3.85"
                                },
                                {
                                    "Book Title": "The Cuckoo's Calling (Cormoran Strike, #1)",
                                    "Author(s)": "Robert Galbraith, J.K. Rowling",
                                    "Average Rating": "3.83"
                                },
                                {
                                    "Book Title": "Harry Potter and the Cursed Child - Parts One and Two (Harry Potter, #8)",
                                    "Author(s)": "John Tiffany, Jack Thorne, J.K. Rowling",
                                    "Average Rating": "3.75"
                                },
                                {
                                    "Book Title": "The Casual Vacancy",
                                    "Author(s)": "J.K. Rowling",
                                    "Average Rating": "3.28"
                                }
                            ]
                        },
                        "text/html": [
                            "<table>",
                            "<tr><th>Book Title</th><th>Author(s)</th><th>Average Rating</th></tr>",
                            "<tr><td>The Complete Calvin and Hobbes</td><td>Bill Watterson</td><td>4.82</td></tr>",
                            "<tr><td>Words of Radiance (The Stormlight Archive, #2)</td><td>Brandon Sanderson</td><td>4.77</td></tr>",
                            "<tr><td>Harry Potter Boxed Set, Books 1-5 (Harry Potter, #1-5)</td><td>J.K. Rowling, Mary GrandPré</td><td>4.77</td></tr>",
                            "<tr><td>It's a Magical World: A Calvin and Hobbes Collection</td><td>Bill Watterson</td><td>4.75</td></tr>",
                            "<tr><td>There's Treasure Everywhere: A Calvin and Hobbes Collection</td><td>Bill Watterson</td><td>4.74</td></tr>",
                            "<tr><td>Harry Potter Boxset (Harry Potter, #1-7)</td><td>J.K. Rowling</td><td>4.74</td></tr>",
                            "<tr><td>The Authoritative Calvin and Hobbes: A Calvin and Hobbes Treasury</td><td>Bill Watterson</td><td>4.73</td></tr>",
                            "<tr><td>The Indispensable Calvin and Hobbes</td><td>Bill Watterson</td><td>4.73</td></tr>",
                            "<tr><td>Harry Potter Collection (Harry Potter, #1-6)</td><td>J.K. Rowling</td><td>4.73</td></tr>",
                            "<tr><td>Attack of the Deranged Mutant Killer Monster Snow Goons</td><td>Bill Watterson</td><td>4.72</td></tr>",
                            "<tr><td>The Revenge of the Baby-Sat</td><td>Bill Watterson</td><td>4.71</td></tr>",
                            "<tr><td>Homicidal Psycho Jungle Cat: A Calvin and Hobbes Collection</td><td>Bill Watterson</td><td>4.71</td></tr>",
                            "<tr><td>The Days Are Just Packed: A Calvin and Hobbes Collection</td><td>Bill Watterson</td><td>4.68</td></tr>",
                            "<tr><td>The Way of Kings, Part 1 (The Stormlight Archive #1.1)</td><td>Brandon Sanderson</td><td>4.67</td></tr>",
                            "<tr><td>The Calvin and Hobbes Lazy Sunday Book</td><td>Bill Watterson</td><td>4.66</td></tr>",
                            "<tr><td>The Harry Potter Collection 1-4 (Harry Potter, #1-4)</td><td>J.K. Rowling, Mary GrandPré</td><td>4.66</td></tr>",
                            "<tr><td>The Essential Calvin and Hobbes: A Calvin and Hobbes Treasury</td><td>Bill Watterson</td><td>4.65</td></tr>",
                            "<tr><td>The Way of Kings (The Stormlight Archive, #1)</td><td>Brandon Sanderson</td><td>4.64</td></tr>",
                            "<tr><td>The Calvin and Hobbes Tenth Anniversary Book</td><td>Bill Watterson</td><td>4.63</td></tr>",
                            "<tr><td>Calvin and Hobbes</td><td>Bill Watterson, G.B. Trudeau</td><td>4.61</td></tr>",
                            "<tr><td>Harry Potter and the Deathly Hallows (Harry Potter, #7)</td><td>J.K. Rowling, Mary GrandPré</td><td>4.61</td></tr>",
                            "<tr><td>Harry Potter and the Order of the Phoenix (Harry Potter, #5, Part 1)</td><td>J.K. Rowling</td><td>4.56</td></tr>",
                            "<tr><td>Mistborn Trilogy Boxed Set (Mistborn, #1-3)</td><td>Brandon Sanderson</td><td>4.55</td></tr>",
                            "<tr><td>Harry Potter and the Half-Blood Prince (Harry Potter, #6)</td><td>J.K. Rowling, Mary GrandPré</td><td>4.54</td></tr>",
                            "<tr><td>Harry Potter and the Goblet of Fire (Harry Potter, #4)</td><td>J.K. Rowling, Mary GrandPré</td><td>4.53</td></tr>",
                            "<tr><td>Harry Potter and the Prisoner of Azkaban (Harry Potter, #3)</td><td>J.K. Rowling, Mary GrandPré, Rufus Beck</td><td>4.53</td></tr>",
                            "<tr><td>A Memory of Light (Wheel of Time, #14)</td><td>Robert Jordan, Brandon Sanderson</td><td>4.5</td></tr>",
                            "<tr><td>The Hero of Ages (Mistborn, #3)</td><td>Brandon Sanderson</td><td>4.46</td></tr>",
                            "<tr><td>Harry Potter and the Order of the Phoenix (Harry Potter, #5)</td><td>J.K. Rowling, Mary GrandPré</td><td>4.46</td></tr>",
                            "<tr><td>The Bands of Mourning (Mistborn, #6)</td><td>Brandon Sanderson</td><td>4.45</td></tr>",
                            "<tr><td>Harry Potter and the Sorcerer's Stone (Harry Potter, #1)</td><td>J.K. Rowling, Mary GrandPré</td><td>4.44</td></tr>",
                            "<tr><td>The Final Empire (Mistborn, #1)</td><td>Brandon Sanderson</td><td>4.43</td></tr>",
                            "<tr><td>Towers of Midnight (Wheel of Time, #13)</td><td>Robert Jordan, Brandon Sanderson</td><td>4.42</td></tr>",
                            "<tr><td>Fantastic Beasts and Where to Find Them: The Original Screenplay</td><td>J.K. Rowling</td><td>4.41</td></tr>",
                            "<tr><td>Harry Potter Schoolbooks Box Set: Two Classic Books from the Library of Hogwarts School of Witchcraft and Wizardry</td><td>J.K. Rowling</td><td>4.4</td></tr>",
                            "<tr><td>Secret History (Mistborn, #3.5)</td><td>Brandon Sanderson</td><td>4.38</td></tr>",
                            "<tr><td>Harry Potter and the Chamber of Secrets (Harry Potter, #2)</td><td>J.K. Rowling, Mary GrandPré</td><td>4.37</td></tr>",
                            "<tr><td>The Well of Ascension (Mistborn, #2)</td><td>Brandon Sanderson</td><td>4.35</td></tr>",
                            "<tr><td>The Gathering Storm (Wheel of Time, #12)</td><td>Robert Jordan, Brandon Sanderson</td><td>4.34</td></tr>",
                            "<tr><td>The Emperor's Soul</td><td>Brandon Sanderson</td><td>4.33</td></tr>",
                            "<tr><td>Shadows of Self (Mistborn, #5)</td><td>Brandon Sanderson</td><td>4.3</td></tr>",
                            "<tr><td>Firefight (The Reckoners, #2)</td><td>Brandon Sanderson</td><td>4.29</td></tr>",
                            "<tr><td>Very Good Lives: The Fringe Benefits of Failure and the Importance of Imagination</td><td>J.K. Rowling, Joel Holland</td><td>4.26</td></tr>",
                            "<tr><td>The Rithmatist (The Rithmatist, #1)</td><td>Brandon Sanderson</td><td>4.25</td></tr>",
                            "<tr><td>Warbreaker (Warbreaker, #1)</td><td>Brandon Sanderson</td><td>4.22</td></tr>",
                            "<tr><td>Short Stories from Hogwarts of Heroism, Hardship and Dangerous Hobbies (Pottermore Presents, #1)</td><td>J.K. Rowling, MinaLima</td><td>4.22</td></tr>",
                            "<tr><td>Hogwarts: An Incomplete and Unreliable Guide (Pottermore Presents, #3)</td><td>J.K. Rowling</td><td>4.21</td></tr>",
                            "<tr><td>Career of Evil (Cormoran Strike, #3)</td><td>Robert Galbraith, J.K. Rowling</td><td>4.21</td></tr>",
                            "<tr><td>The Alloy of Law (Mistborn, #4)</td><td>Brandon Sanderson</td><td>4.2</td></tr>",
                            "<tr><td>Calamity (The Reckoners, #3)</td><td>Brandon Sanderson</td><td>4.2</td></tr>",
                            "<tr><td>Short Stories from Hogwarts of Power, Politics and Pesky Poltergeists (Pottermore Presents, #2)</td><td>J.K. Rowling, MinaLima</td><td>4.2</td></tr>",
                            "<tr><td>Elantris (Elantris, #1)</td><td>Brandon Sanderson</td><td>4.17</td></tr>",
                            "<tr><td>Steelheart (The Reckoners, #1)</td><td>Brandon Sanderson</td><td>4.16</td></tr>",
                            "<tr><td>Legion (Legion, #1)</td><td>Brandon Sanderson</td><td>4.13</td></tr>",
                            "<tr><td>Skin Deep (Legion, #2)</td><td>Brandon Sanderson, Jon Foster</td><td>4.11</td></tr>",
                            "<tr><td>Harry, a History: The True Story of a Boy Wizard, His Fans, and Life Inside the Harry Potter Phenomenon</td><td>Melissa Anelli, J.K. Rowling</td><td>4.09</td></tr>",
                            "<tr><td>The Tales of Beedle the Bard</td><td>J.K. Rowling</td><td>4.06</td></tr>",
                            "<tr><td>The Silkworm (Cormoran Strike, #2)</td><td>Robert Galbraith, J.K. Rowling</td><td>4.03</td></tr>",
                            "<tr><td>Fantastic Beasts and Where to Find Them</td><td>Newt Scamander, J.K. Rowling, Albus Dumbledore</td><td>3.95</td></tr>",
                            "<tr><td>Alcatraz Versus the Evil Librarians (Alcatraz, #1)</td><td>Brandon Sanderson</td><td>3.87</td></tr>",
                            "<tr><td>Mitosis (The Reckoners, #1.5)</td><td>Brandon Sanderson</td><td>3.87</td></tr>",
                            "<tr><td>Quidditch Through the Ages</td><td>Kennilworthy Whisp, J.K. Rowling</td><td>3.85</td></tr>",
                            "<tr><td>The Cuckoo's Calling (Cormoran Strike, #1)</td><td>Robert Galbraith, J.K. Rowling</td><td>3.83</td></tr>",
                            "<tr><td>Harry Potter and the Cursed Child - Parts One and Two (Harry Potter, #8)</td><td>John Tiffany, Jack Thorne, J.K. Rowling</td><td>3.75</td></tr>",
                            "<tr><td>The Casual Vacancy</td><td>J.K. Rowling</td><td>3.28</td></tr>",
                            "</table>"
                        ]
                    }
                }
            ],
            "execution_count": 39
        },
        {
            "cell_type": "markdown",
            "source": [
                "Question 8: Take a close look at J.K. Rowling.  Is her top rated book on this list from question 1?  Why might this be? How could we account for this?\n",
                "\n",
                "> Her top rated book from question 1 is on this list, just not in the top spot. This is because the list from question 7 is sorted by alphabetically by author name, so first all books by \"J.K. Rowling\" are listed, then books by \"J.K. Rowling, \\<additional author\\>\" are listed."
            ],
            "metadata": {
                "azdata_cell_guid": "db907c70-0bbd-4121-ac91-ae814f703243"
            },
            "attachments": {}
        },
        {
            "cell_type": "markdown",
            "source": [
                "Try updating your above query to include all of J.K. Rowling's books.\n",
                "\n",
                "Are there any other issues?\n",
                "\n",
                "> See above. I assume my original query was supposed to be something like \"where authors like 'J.K. Rowling' \" without the %s within the single qutoes."
            ],
            "metadata": {
                "azdata_cell_guid": "35ee4a48-8e84-4eb5-95ca-f5cdddc8d682"
            },
            "attachments": {}
        },
        {
            "cell_type": "code",
            "source": [
                "-- Try updating your above query to include all of J.K. Rowling's books\n",
                ""
            ],
            "metadata": {
                "azdata_cell_guid": "ce489012-fce9-435c-b570-7734223a0678",
                "tags": [],
                "language": "sql"
            },
            "outputs": [],
            "execution_count": null
        },
        {
            "cell_type": "markdown",
            "source": [
                "Question 9: Write a query that returns the number of Authors whose first name is between rock and roll."
            ],
            "metadata": {
                "azdata_cell_guid": "75bf5054-4918-4e9e-8e03-24a38ffab9cc"
            },
            "attachments": {}
        },
        {
            "cell_type": "code",
            "source": [
                "-- return number of authors whose first name is between rock and roll\n",
                "select authors as \"Authors\" from books where authors between 'rock' and 'roll' order by authors asc\n",
                ""
            ],
            "metadata": {
                "azdata_cell_guid": "491b2492-95d4-4078-b319-386b0c5592ec",
                "language": "sql"
            },
            "outputs": [
                {
                    "output_type": "display_data",
                    "data": {
                        "text/html": "(25 rows affected)"
                    },
                    "metadata": {}
                },
                {
                    "output_type": "display_data",
                    "data": {
                        "text/html": "Total execution time: 00:00:00.076"
                    },
                    "metadata": {}
                },
                {
                    "output_type": "execute_result",
                    "metadata": {},
                    "execution_count": 42,
                    "data": {
                        "application/vnd.dataresource+json": {
                            "schema": {
                                "fields": [
                                    {
                                        "name": "Authors"
                                    }
                                ]
                            },
                            "data": [
                                {
                                    "Authors": "Rod Campbell"
                                },
                                {
                                    "Authors": "Roddy Doyle"
                                },
                                {
                                    "Authors": "Roddy Doyle"
                                },
                                {
                                    "Authors": "Roderick Gordon, Brian  Williams"
                                },
                                {
                                    "Authors": "Rodman Philbrick"
                                },
                                {
                                    "Authors": "Roger Fisher, William Ury, Bruce Patton"
                                },
                                {
                                    "Authors": "Roger Lea MacBride, David Gilleece"
                                },
                                {
                                    "Authors": "Roger Lowenstein"
                                },
                                {
                                    "Authors": "Roger Zelazny"
                                },
                                {
                                    "Authors": "Roger Zelazny"
                                },
                                {
                                    "Authors": "Roger Zelazny"
                                },
                                {
                                    "Authors": "Roger Zelazny"
                                },
                                {
                                    "Authors": "Roger Zelazny"
                                },
                                {
                                    "Authors": "Roger Zelazny"
                                },
                                {
                                    "Authors": "Roger Zelazny"
                                },
                                {
                                    "Authors": "Roger Zelazny, Sönmez Güven"
                                },
                                {
                                    "Authors": "Rohinton Mistry"
                                },
                                {
                                    "Authors": "Rohinton Mistry"
                                },
                                {
                                    "Authors": "Roland Barthes, Annette Lavers"
                                },
                                {
                                    "Authors": "Roland Barthes, Richard Howard"
                                },
                                {
                                    "Authors": "Roland Merullo"
                                },
                                {
                                    "Authors": "Roland Smith"
                                },
                                {
                                    "Authors": "Roland Smith"
                                },
                                {
                                    "Authors": "Rolf Dobelli"
                                },
                                {
                                    "Authors": "Rolf Potts"
                                }
                            ]
                        },
                        "text/html": [
                            "<table>",
                            "<tr><th>Authors</th></tr>",
                            "<tr><td>Rod Campbell</td></tr>",
                            "<tr><td>Roddy Doyle</td></tr>",
                            "<tr><td>Roddy Doyle</td></tr>",
                            "<tr><td>Roderick Gordon, Brian  Williams</td></tr>",
                            "<tr><td>Rodman Philbrick</td></tr>",
                            "<tr><td>Roger Fisher, William Ury, Bruce Patton</td></tr>",
                            "<tr><td>Roger Lea MacBride, David Gilleece</td></tr>",
                            "<tr><td>Roger Lowenstein</td></tr>",
                            "<tr><td>Roger Zelazny</td></tr>",
                            "<tr><td>Roger Zelazny</td></tr>",
                            "<tr><td>Roger Zelazny</td></tr>",
                            "<tr><td>Roger Zelazny</td></tr>",
                            "<tr><td>Roger Zelazny</td></tr>",
                            "<tr><td>Roger Zelazny</td></tr>",
                            "<tr><td>Roger Zelazny</td></tr>",
                            "<tr><td>Roger Zelazny, Sönmez Güven</td></tr>",
                            "<tr><td>Rohinton Mistry</td></tr>",
                            "<tr><td>Rohinton Mistry</td></tr>",
                            "<tr><td>Roland Barthes, Annette Lavers</td></tr>",
                            "<tr><td>Roland Barthes, Richard Howard</td></tr>",
                            "<tr><td>Roland Merullo</td></tr>",
                            "<tr><td>Roland Smith</td></tr>",
                            "<tr><td>Roland Smith</td></tr>",
                            "<tr><td>Rolf Dobelli</td></tr>",
                            "<tr><td>Rolf Potts</td></tr>",
                            "</table>"
                        ]
                    }
                }
            ],
            "execution_count": 42
        },
        {
            "cell_type": "markdown",
            "source": [
                "## Part 2. Write your own question and write a query to answer it.\n",
                "\n",
                "Your Question:  Click here to add"
            ],
            "metadata": {
                "azdata_cell_guid": "1ba1363a-4f02-4962-a95a-93b80c5926b1"
            },
            "attachments": {}
        },
        {
            "cell_type": "code",
            "source": [
                "-- Return an alphabetical list of authors who published a book during 2012.\n",
                "select distinct authors as \"Authors\" from books where original_publication_year = 2012 order by authors asc"
            ],
            "metadata": {
                "azdata_cell_guid": "607f1a61-b306-42bf-a20c-60ec3a6ba86a",
                "language": "sql"
            },
            "outputs": [
                {
                    "output_type": "display_data",
                    "data": {
                        "text/html": "(492 rows affected)"
                    },
                    "metadata": {}
                },
                {
                    "output_type": "display_data",
                    "data": {
                        "text/html": "Total execution time: 00:00:00.277"
                    },
                    "metadata": {}
                },
                {
                    "output_type": "execute_result",
                    "metadata": {},
                    "execution_count": 46,
                    "data": {
                        "application/vnd.dataresource+json": {
                            "schema": {
                                "fields": [
                                    {
                                        "name": "Authors"
                                    }
                                ]
                            },
                            "data": [
                                {
                                    "Authors": "A. Meredith Walters"
                                },
                                {
                                    "Authors": "A.C. Gaughen"
                                },
                                {
                                    "Authors": "A.J. Jacobs"
                                },
                                {
                                    "Authors": "A.M. Homes"
                                },
                                {
                                    "Authors": "A.S. King"
                                },
                                {
                                    "Authors": "Abbi Glines"
                                },
                                {
                                    "Authors": "Adam Johnson"
                                },
                                {
                                    "Authors": "Adam Makos, Larry Alexander"
                                },
                                {
                                    "Authors": "Addison Moore"
                                },
                                {
                                    "Authors": "Adriana Trigiani"
                                },
                                {
                                    "Authors": "Aimee Carter"
                                },
                                {
                                    "Authors": "Aleatha Romig"
                                },
                                {
                                    "Authors": "Alexandra Adornetto"
                                },
                                {
                                    "Authors": "Alexandra Bracken"
                                },
                                {
                                    "Authors": "Ali Novak, Fallzswimmer"
                                },
                                {
                                    "Authors": "Alice Clayton"
                                },
                                {
                                    "Authors": "Alice Munro"
                                },
                                {
                                    "Authors": "Alison Bechdel"
                                },
                                {
                                    "Authors": "Ally Carter"
                                },
                                {
                                    "Authors": "Ally Condie"
                                },
                                {
                                    "Authors": "Amanda Coplin"
                                },
                                {
                                    "Authors": "Amanda Hocking"
                                },
                                {
                                    "Authors": "Amy A. Bartol"
                                },
                                {
                                    "Authors": "Amy Plum"
                                },
                                {
                                    "Authors": "Andrea Cremer"
                                },
                                {
                                    "Authors": "Andrew Solomon"
                                },
                                {
                                    "Authors": "Andy Cohen"
                                },
                                {
                                    "Authors": "Andy Weir"
                                },
                                {
                                    "Authors": "Ann Aguirre"
                                },
                                {
                                    "Authors": "Anna Banks"
                                },
                                {
                                    "Authors": "Anna Carey"
                                },
                                {
                                    "Authors": "Anna Quindlen"
                                },
                                {
                                    "Authors": "Anne Lamott"
                                },
                                {
                                    "Authors": "Anne Lamott, Sam Lamott"
                                },
                                {
                                    "Authors": "Anne Rice"
                                },
                                {
                                    "Authors": "Anne Tyler"
                                },
                                {
                                    "Authors": "Aprilynne Pike"
                                },
                                {
                                    "Authors": "Ashwin Sanghi"
                                },
                                {
                                    "Authors": "Ayana Mathis"
                                },
                                {
                                    "Authors": "B.A. Shapiro"
                                },
                                {
                                    "Authors": "Babe Walker"
                                },
                                {
                                    "Authors": "Barbara Kingsolver"
                                },
                                {
                                    "Authors": "Barry Lyga"
                                },
                                {
                                    "Authors": "Becca Fitzpatrick"
                                },
                                {
                                    "Authors": "Bella Forrest"
                                },
                                {
                                    "Authors": "Ben Aaronovitch"
                                },
                                {
                                    "Authors": "Ben Fountain"
                                },
                                {
                                    "Authors": "Ben H. Winters"
                                },
                                {
                                    "Authors": "Benedict Jacka"
                                },
                                {
                                    "Authors": "Benjamin Alire Sáenz"
                                },
                                {
                                    "Authors": "Beth Revis"
                                },
                                {
                                    "Authors": "Bill O'Reilly, Martin Dugard"
                                },
                                {
                                    "Authors": "Blaine Harden"
                                },
                                {
                                    "Authors": "Blake Crouch"
                                },
                                {
                                    "Authors": "Bob Goff"
                                },
                                {
                                    "Authors": "Brad Thor"
                                },
                                {
                                    "Authors": "Brandon Mull"
                                },
                                {
                                    "Authors": "Brandon Sanderson"
                                },
                                {
                                    "Authors": "Brené Brown"
                                },
                                {
                                    "Authors": "Brent Weeks"
                                },
                                {
                                    "Authors": "Brian Azzarello, Cliff Chiang, Tony Akins, Dan Green, Matthew Wilson, Jared K. Fletcher"
                                },
                                {
                                    "Authors": "Brian K. Vaughan, Fiona Staples"
                                },
                                {
                                    "Authors": "Brigid Kemmerer"
                                },
                                {
                                    "Authors": "Brodi Ashton"
                                },
                                {
                                    "Authors": "C.C. Hunter"
                                },
                                {
                                    "Authors": "C.J. Redwine"
                                },
                                {
                                    "Authors": "C.J. Roberts"
                                },
                                {
                                    "Authors": "Camron Wright"
                                },
                                {
                                    "Authors": "Caragh M. O'Brien"
                                },
                                {
                                    "Authors": "Carl Hiaasen"
                                },
                                {
                                    "Authors": "Carol Rifka Brunt"
                                },
                                {
                                    "Authors": "Carrie Jones"
                                },
                                {
                                    "Authors": "Cassandra Clare"
                                },
                                {
                                    "Authors": "Cassandra Clare, Hye-Kyung Baek"
                                },
                                {
                                    "Authors": "Cassie Dandridge Selleck"
                                },
                                {
                                    "Authors": "Catherine Bybee"
                                },
                                {
                                    "Authors": "Cathy Marie Buchanan"
                                },
                                {
                                    "Authors": "Cecelia Ahern"
                                },
                                {
                                    "Authors": "Chanda Hahn"
                                },
                                {
                                    "Authors": "Charlaine Harris"
                                },
                                {
                                    "Authors": "Charlotte Rogan"
                                },
                                {
                                    "Authors": "Chelsea M. Cameron"
                                },
                                {
                                    "Authors": "Cherrie Lynn"
                                },
                                {
                                    "Authors": "Cheryl McIntyre"
                                },
                                {
                                    "Authors": "Cheryl Strayed"
                                },
                                {
                                    "Authors": "Chris Bohjalian"
                                },
                                {
                                    "Authors": "Chris Cleave"
                                },
                                {
                                    "Authors": "Chris Colfer, Brandon Dorman"
                                },
                                {
                                    "Authors": "Chris Guillebeau"
                                },
                                {
                                    "Authors": "Chris Kyle, Scott McEwen, Jim DeFelice"
                                },
                                {
                                    "Authors": "Chris Pavone"
                                },
                                {
                                    "Authors": "Christine Zolendz"
                                },
                                {
                                    "Authors": "Christopher Hitchens"
                                },
                                {
                                    "Authors": "Christopher Moore"
                                },
                                {
                                    "Authors": "Cinda Williams Chima"
                                },
                                {
                                    "Authors": "Clayton M. Christensen, James Allworth, Karen Dillon"
                                },
                                {
                                    "Authors": "Clint Hill, Lisa McCubbin"
                                },
                                {
                                    "Authors": "Colleen Hoover"
                                },
                                {
                                    "Authors": "Colleen Houck"
                                },
                                {
                                    "Authors": "Colm Tóibín"
                                },
                                {
                                    "Authors": "Cora Carmack"
                                },
                                {
                                    "Authors": "Courtney Milan"
                                },
                                {
                                    "Authors": "Cynthia Hand"
                                },
                                {
                                    "Authors": "D.J. Molles"
                                },
                                {
                                    "Authors": "Dallas Hartwig, Melissa Hartwig"
                                },
                                {
                                    "Authors": "Dan Ariely"
                                },
                                {
                                    "Authors": "Dan Wells"
                                },
                                {
                                    "Authors": "Daniel H. Pink"
                                },
                                {
                                    "Authors": "Daniel O'Malley"
                                },
                                {
                                    "Authors": "Daniel Silva"
                                },
                                {
                                    "Authors": "Daron Acemoğlu, James A. Robinson"
                                },
                                {
                                    "Authors": "Darynda Jones"
                                },
                                {
                                    "Authors": "Dave Eggers"
                                },
                                {
                                    "Authors": "David Baldacci"
                                },
                                {
                                    "Authors": "David Byrne"
                                },
                                {
                                    "Authors": "David Levithan"
                                },
                                {
                                    "Authors": "David R. Gillham"
                                },
                                {
                                    "Authors": "David Wong"
                                },
                                {
                                    "Authors": "Dean Koontz"
                                },
                                {
                                    "Authors": "Deb Perelman"
                                },
                                {
                                    "Authors": "Debbie Macomber"
                                },
                                {
                                    "Authors": "Deborah Feldman"
                                },
                                {
                                    "Authors": "Deborah Harkness"
                                },
                                {
                                    "Authors": "Dennis Lehane"
                                },
                                {
                                    "Authors": "Derf Backderf"
                                },
                                {
                                    "Authors": "Diana Gabaldon"
                                },
                                {
                                    "Authors": "Diane Chamberlain"
                                },
                                {
                                    "Authors": "Donna Russo Morin"
                                },
                                {
                                    "Authors": "Douglas Preston, Lincoln Child"
                                },
                                {
                                    "Authors": "E.L. James"
                                },
                                {
                                    "Authors": "E.L. Montes"
                                },
                                {
                                    "Authors": "Eben Alexander"
                                },
                                {
                                    "Authors": "Elena Ferrante, Ann Goldstein"
                                },
                                {
                                    "Authors": "Elin Hilderbrand"
                                },
                                {
                                    "Authors": "Elizabeth Gilbert"
                                },
                                {
                                    "Authors": "Elizabeth Norris"
                                },
                                {
                                    "Authors": "Elizabeth Wein"
                                },
                                {
                                    "Authors": "Ellen Hopkins"
                                },
                                {
                                    "Authors": "Ellen Marie Wiseman"
                                },
                                {
                                    "Authors": "Ellis Avery"
                                },
                                {
                                    "Authors": "Emily Giffin"
                                },
                                {
                                    "Authors": "Emily M. Danforth"
                                },
                                {
                                    "Authors": "Emily Seife"
                                },
                                {
                                    "Authors": "Emily Snow"
                                },
                                {
                                    "Authors": "Emmy Laybourne"
                                },
                                {
                                    "Authors": "Eoin Colfer"
                                },
                                {
                                    "Authors": "Eowyn Ivey"
                                },
                                {
                                    "Authors": "Eric Blehm"
                                },
                                {
                                    "Authors": "Erica Stevens"
                                },
                                {
                                    "Authors": "Fisher Amelie"
                                },
                                {
                                    "Authors": "Fredrik Backman, Henning Koch"
                                },
                                {
                                    "Authors": "G. Willow Wilson"
                                },
                                {
                                    "Authors": "Gail Carriger"
                                },
                                {
                                    "Authors": "Gary Keller, Jay Papasan"
                                },
                                {
                                    "Authors": "Gena Showalter"
                                },
                                {
                                    "Authors": "Gene Luen Yang, Bryan Konietzko, Michael Dante DiMartino, Gurihiru"
                                },
                                {
                                    "Authors": "Gene Luen Yang, Michael Dante DiMartino, Gurihiru, Bryan Konietzko"
                                },
                                {
                                    "Authors": "Gennifer Albin"
                                },
                                {
                                    "Authors": "Geoff Johns, Gary Frank, Jon Sibal, Brad Anderson, Rob Leigh"
                                },
                                {
                                    "Authors": "Gillian Flynn"
                                },
                                {
                                    "Authors": "Gina L. Maxwell"
                                },
                                {
                                    "Authors": "Gordon Korman"
                                },
                                {
                                    "Authors": "Gretchen Rubin, Käthe Mazur"
                                },
                                {
                                    "Authors": "Harlan Coben"
                                },
                                {
                                    "Authors": "Hazel Gaynor"
                                },
                                {
                                    "Authors": "Heather Gudenkauf"
                                },
                                {
                                    "Authors": "Heidi McLaughlin"
                                },
                                {
                                    "Authors": "Helen Bryan"
                                },
                                {
                                    "Authors": "Hilary Mantel"
                                },
                                {
                                    "Authors": "Hope Larson, Madeleine L'Engle"
                                },
                                {
                                    "Authors": "Hugh Howey"
                                },
                                {
                                    "Authors": "Huntley Fitzpatrick"
                                },
                                {
                                    "Authors": "Iain M. Banks"
                                },
                                {
                                    "Authors": "Ian McEwan"
                                },
                                {
                                    "Authors": "Ilona Andrews"
                                },
                                {
                                    "Authors": "J. Lynn, Jennifer L. Armentrout"
                                },
                                {
                                    "Authors": "J. Sterling"
                                },
                                {
                                    "Authors": "J.A. Redmerski"
                                },
                                {
                                    "Authors": "J.D. Robb"
                                },
                                {
                                    "Authors": "J.K. Rowling"
                                },
                                {
                                    "Authors": "J.R. Ward"
                                },
                                {
                                    "Authors": "Jack McCallum"
                                },
                                {
                                    "Authors": "Jacob Tomsky"
                                },
                                {
                                    "Authors": "James Bowen"
                                },
                                {
                                    "Authors": "James Dashner"
                                },
                                {
                                    "Authors": "James Luceno"
                                },
                                {
                                    "Authors": "James Patterson"
                                },
                                {
                                    "Authors": "James Patterson, David Ellis"
                                },
                                {
                                    "Authors": "James Patterson, Mark T. Sullivan"
                                },
                                {
                                    "Authors": "James Patterson, Marshall Karp"
                                },
                                {
                                    "Authors": "James Patterson, Maxine Paetro"
                                },
                                {
                                    "Authors": "James Patterson, Michael Ledwidge"
                                },
                                {
                                    "Authors": "James Rollins"
                                },
                                {
                                    "Authors": "James S.A. Corey"
                                },
                                {
                                    "Authors": "Jami Attenberg"
                                },
                                {
                                    "Authors": "Jane Green"
                                },
                                {
                                    "Authors": "Janet Evanovich"
                                },
                                {
                                    "Authors": "Jay Crownover, Charlotte Connan de vries"
                                },
                                {
                                    "Authors": "Jeaniene Frost"
                                },
                                {
                                    "Authors": "Jeff Kinney"
                                },
                                {
                                    "Authors": "Jeffrey Archer"
                                },
                                {
                                    "Authors": "Jeffrey Brown"
                                },
                                {
                                    "Authors": "Jennifer A. Nielsen"
                                },
                                {
                                    "Authors": "Jennifer E. Smith"
                                },
                                {
                                    "Authors": "Jennifer Echols"
                                },
                                {
                                    "Authors": "Jennifer L. Armentrout"
                                },
                                {
                                    "Authors": "Jennifer Probst"
                                },
                                {
                                    "Authors": "Jennifer Weiner"
                                },
                                {
                                    "Authors": "Jenny  Lawson"
                                },
                                {
                                    "Authors": "Jenny Han, Siobhan Vivian"
                                },
                                {
                                    "Authors": "Jess Rothenberg"
                                },
                                {
                                    "Authors": "Jess Walter"
                                },
                                {
                                    "Authors": "Jesse Andrews"
                                },
                                {
                                    "Authors": "Jessica Anthony, Rodrigo Corral"
                                },
                                {
                                    "Authors": "Jessica Sorensen"
                                },
                                {
                                    "Authors": "Jim Butcher"
                                },
                                {
                                    "Authors": "Jodi Daynard"
                                },
                                {
                                    "Authors": "Jodi Ellen Malpas"
                                },
                                {
                                    "Authors": "Jodi Lynn Anderson"
                                },
                                {
                                    "Authors": "Jodi Meadows"
                                },
                                {
                                    "Authors": "Jodi Picoult"
                                },
                                {
                                    "Authors": "Jodi Picoult, Samantha van Leer"
                                },
                                {
                                    "Authors": "Joe Abercrombie"
                                },
                                {
                                    "Authors": "John Flanagan"
                                },
                                {
                                    "Authors": "John Green"
                                },
                                {
                                    "Authors": "John Grisham"
                                },
                                {
                                    "Authors": "John Irving"
                                },
                                {
                                    "Authors": "John Lanchester"
                                },
                                {
                                    "Authors": "John Sandford"
                                },
                                {
                                    "Authors": "John Scalzi"
                                },
                                {
                                    "Authors": "Jojo Moyes"
                                },
                                {
                                    "Authors": "Jon Klassen"
                                },
                                {
                                    "Authors": "Jon Meacham"
                                },
                                {
                                    "Authors": "Jonah Lehrer"
                                },
                                {
                                    "Authors": "Jonathan Haidt"
                                },
                                {
                                    "Authors": "Jonathan Kellerman"
                                },
                                {
                                    "Authors": "Josephine Angelini"
                                },
                                {
                                    "Authors": "Julianna Baggott"
                                },
                                {
                                    "Authors": "Julianne Donaldson"
                                },
                                {
                                    "Authors": "Julie James"
                                },
                                {
                                    "Authors": "Julie Kagawa"
                                },
                                {
                                    "Authors": "Julie Kibler"
                                },
                                {
                                    "Authors": "Junot Díaz"
                                },
                                {
                                    "Authors": "Justin Cronin"
                                },
                                {
                                    "Authors": "Justin Halpern"
                                },
                                {
                                    "Authors": "K.A. Linde"
                                },
                                {
                                    "Authors": "K.A. Tucker"
                                },
                                {
                                    "Authors": "Kami Garcia, Margaret Stohl"
                                },
                                {
                                    "Authors": "Karen Marie Moning"
                                },
                                {
                                    "Authors": "Karen Thompson Walker"
                                },
                                {
                                    "Authors": "Karin Slaughter"
                                },
                                {
                                    "Authors": "Kate Alcott"
                                },
                                {
                                    "Authors": "Kate Egan"
                                },
                                {
                                    "Authors": "Kate Morton"
                                },
                                {
                                    "Authors": "Katee Robert"
                                },
                                {
                                    "Authors": "Katherine Applegate, Patricia Castelao"
                                },
                                {
                                    "Authors": "Katherine Boo"
                                },
                                {
                                    "Authors": "Kathy Reichs"
                                },
                                {
                                    "Authors": "Katie Ashley"
                                },
                                {
                                    "Authors": "Katie McGarry"
                                },
                                {
                                    "Authors": "Katja Millay"
                                },
                                {
                                    "Authors": "Kelley Armstrong"
                                },
                                {
                                    "Authors": "Kelly Elliott"
                                },
                                {
                                    "Authors": "Ken Follett"
                                },
                                {
                                    "Authors": "Kendare Blake"
                                },
                                {
                                    "Authors": "Kendra Elliot"
                                },
                                {
                                    "Authors": "Kevin Hearne"
                                },
                                {
                                    "Authors": "Kevin Powers"
                                },
                                {
                                    "Authors": "Khaled Hosseini"
                                },
                                {
                                    "Authors": "Kiera Cass"
                                },
                                {
                                    "Authors": "Kiersten White"
                                },
                                {
                                    "Authors": "Kim Harrison"
                                },
                                {
                                    "Authors": "Kim Stanley Robinson"
                                },
                                {
                                    "Authors": "Kirsty Moseley"
                                },
                                {
                                    "Authors": "Kitty French"
                                },
                                {
                                    "Authors": "Kody Keplinger"
                                },
                                {
                                    "Authors": "Kresley Cole"
                                },
                                {
                                    "Authors": "Kristen Ashley"
                                },
                                {
                                    "Authors": "Kristen Proby"
                                },
                                {
                                    "Authors": "Kristen Simmons"
                                },
                                {
                                    "Authors": "Kristin Cashore"
                                },
                                {
                                    "Authors": "Kristin Hannah"
                                },
                                {
                                    "Authors": "Kristin Levine"
                                },
                                {
                                    "Authors": "L.A. Fiore"
                                },
                                {
                                    "Authors": "L.D. Davis"
                                },
                                {
                                    "Authors": "Lacey Weatherford"
                                },
                                {
                                    "Authors": "Laini Taylor"
                                },
                                {
                                    "Authors": "Lara Adrian"
                                },
                                {
                                    "Authors": "Laura Moriarty"
                                },
                                {
                                    "Authors": "Laurell K. Hamilton"
                                },
                                {
                                    "Authors": "Lauren DeStefano"
                                },
                                {
                                    "Authors": "Lauren Groff"
                                },
                                {
                                    "Authors": "Lauren Kate"
                                },
                                {
                                    "Authors": "Lauren Morrill"
                                },
                                {
                                    "Authors": "Lauren Oliver"
                                },
                                {
                                    "Authors": "Lawrence M. Krauss, Richard Dawkins"
                                },
                                {
                                    "Authors": "Lee Child"
                                },
                                {
                                    "Authors": "Lee Child, Dick Hill"
                                },
                                {
                                    "Authors": "Leigh Bardugo"
                                },
                                {
                                    "Authors": "Lemony Snicket, Seth"
                                },
                                {
                                    "Authors": "Libba Bray"
                                },
                                {
                                    "Authors": "Linda Lafferty"
                                },
                                {
                                    "Authors": "Linda Sue Park"
                                },
                                {
                                    "Authors": "Lisa Gardner"
                                },
                                {
                                    "Authors": "Lisa Genova"
                                },
                                {
                                    "Authors": "Lisa O'Donnell"
                                },
                                {
                                    "Authors": "Lisa Renee Jones"
                                },
                                {
                                    "Authors": "Lisa Scottoline"
                                },
                                {
                                    "Authors": "Lissa Price"
                                },
                                {
                                    "Authors": "Liz Moore"
                                },
                                {
                                    "Authors": "Liza Klaussmann"
                                },
                                {
                                    "Authors": "Lois Lowry"
                                },
                                {
                                    "Authors": "Louise Erdrich"
                                },
                                {
                                    "Authors": "Louise Penny"
                                },
                                {
                                    "Authors": "Lynda Mullaly Hunt"
                                },
                                {
                                    "Authors": "M. Leighton"
                                },
                                {
                                    "Authors": "M.L. Stedman"
                                },
                                {
                                    "Authors": "Mac Barnett, Jon Klassen"
                                },
                                {
                                    "Authors": "Madeline Sheehan"
                                },
                                {
                                    "Authors": "Maeve Binchy"
                                },
                                {
                                    "Authors": "Maggie Shipstead"
                                },
                                {
                                    "Authors": "Maggie Stiefvater"
                                },
                                {
                                    "Authors": "Malala Yousafzai, Christina Lamb"
                                },
                                {
                                    "Authors": "Marcus Samuelsson"
                                },
                                {
                                    "Authors": "Margot Livesey"
                                },
                                {
                                    "Authors": "Maria Semple"
                                },
                                {
                                    "Authors": "Maria V. Snyder"
                                },
                                {
                                    "Authors": "Marie Lu"
                                },
                                {
                                    "Authors": "Marissa Meyer"
                                },
                                {
                                    "Authors": "Mark  Lawrence"
                                },
                                {
                                    "Authors": "Mark Haddon"
                                },
                                {
                                    "Authors": "Mark Owen, Kevin Maurer"
                                },
                                {
                                    "Authors": "Mary Kay Andrews"
                                },
                                {
                                    "Authors": "Matthew Dicks"
                                },
                                {
                                    "Authors": "Matthew Inman, The Oatmeal"
                                },
                                {
                                    "Authors": "Maya Banks"
                                },
                                {
                                    "Authors": "Meg Cabot"
                                },
                                {
                                    "Authors": "Meg Jay"
                                },
                                {
                                    "Authors": "Megan Abbott"
                                },
                                {
                                    "Authors": "Mhairi McFarlane"
                                },
                                {
                                    "Authors": "Michael  Grant"
                                },
                                {
                                    "Authors": "Michael Chabon"
                                },
                                {
                                    "Authors": "Michael Connelly"
                                },
                                {
                                    "Authors": "Michael J. Sullivan"
                                },
                                {
                                    "Authors": "Michael Scott"
                                },
                                {
                                    "Authors": "Michelle A. Valentine"
                                },
                                {
                                    "Authors": "Michelle Hodkin"
                                },
                                {
                                    "Authors": "Miles  Cameron"
                                },
                                {
                                    "Authors": "Mira Grant"
                                },
                                {
                                    "Authors": "Mira Lyn Kelly"
                                },
                                {
                                    "Authors": "Miranda Hart"
                                },
                                {
                                    "Authors": "Miranda Kenneally"
                                },
                                {
                                    "Authors": "Mitch Albom"
                                },
                                {
                                    "Authors": "Moira Young"
                                },
                                {
                                    "Authors": "Molly McAdams"
                                },
                                {
                                    "Authors": "Morgan Matson"
                                },
                                {
                                    "Authors": "Morgan Rhodes, Michelle Rowen"
                                },
                                {
                                    "Authors": "Morgan Rice"
                                },
                                {
                                    "Authors": "Nassim Nicholas Taleb"
                                },
                                {
                                    "Authors": "Natasha Anders"
                                },
                                {
                                    "Authors": "Natasha Preston"
                                },
                                {
                                    "Authors": "Nate Silver"
                                },
                                {
                                    "Authors": "Neal Shusterman"
                                },
                                {
                                    "Authors": "Nelson DeMille"
                                },
                                {
                                    "Authors": "Nicholas Sparks"
                                },
                                {
                                    "Authors": "Nicole  Williams"
                                },
                                {
                                    "Authors": "Nora Roberts"
                                },
                                {
                                    "Authors": "Nora Roberts, MacLeod Andrews"
                                },
                                {
                                    "Authors": "Nyrae Dawn"
                                },
                                {
                                    "Authors": "Olivia Cunning"
                                },
                                {
                                    "Authors": "Orson Scott Card, Aaron Johnston"
                                },
                                {
                                    "Authors": "P.C. Cast, Kristin Cast"
                                },
                                {
                                    "Authors": "P.D. James"
                                },
                                {
                                    "Authors": "Pamela Druckerman, Abby Craden"
                                },
                                {
                                    "Authors": "Patricia Briggs"
                                },
                                {
                                    "Authors": "Patricia Cornwell"
                                },
                                {
                                    "Authors": "Patricia Harman"
                                },
                                {
                                    "Authors": "Paul Tough"
                                },
                                {
                                    "Authors": "Paulo Coelho, Margaret Jull Costa"
                                },
                                {
                                    "Authors": "Peter Clines"
                                },
                                {
                                    "Authors": "Peter F. Hamilton"
                                },
                                {
                                    "Authors": "Peter Heller"
                                },
                                {
                                    "Authors": "Peter Lerangis"
                                },
                                {
                                    "Authors": "Philip Pullman, Jacob Grimm, Wilhelm Grimm"
                                },
                                {
                                    "Authors": "Philipp Meyer"
                                },
                                {
                                    "Authors": "Philippa Gregory, Mirjana Valent"
                                },
                                {
                                    "Authors": "Pittacus Lore"
                                },
                                {
                                    "Authors": "Quinn Loftis"
                                },
                                {
                                    "Authors": "R.D. Ronald"
                                },
                                {
                                    "Authors": "R.J. Palacio"
                                },
                                {
                                    "Authors": "R.K. Lilley"
                                },
                                {
                                    "Authors": "R.L. Mathewson"
                                },
                                {
                                    "Authors": "Rachel Caine"
                                },
                                {
                                    "Authors": "Rachel Dratch"
                                },
                                {
                                    "Authors": "Rachel Hartman"
                                },
                                {
                                    "Authors": "Rachel Hauck"
                                },
                                {
                                    "Authors": "Rachel Hawkins"
                                },
                                {
                                    "Authors": "Rachel Joyce"
                                },
                                {
                                    "Authors": "Rachel Maddow"
                                },
                                {
                                    "Authors": "Rachel Renée Russell"
                                },
                                {
                                    "Authors": "Rae Carson"
                                },
                                {
                                    "Authors": "Raina Telgemeier, Gurihiru"
                                },
                                {
                                    "Authors": "Raine Miller"
                                },
                                {
                                    "Authors": "Ramez Naam"
                                },
                                {
                                    "Authors": "Rebecca Donovan"
                                },
                                {
                                    "Authors": "Rebecca Stead"
                                },
                                {
                                    "Authors": "Rhonda Byrne"
                                },
                                {
                                    "Authors": "Richard Ford"
                                },
                                {
                                    "Authors": "Richard Paul Evans"
                                },
                                {
                                    "Authors": "Richelle Mead"
                                },
                                {
                                    "Authors": "Rick Riordan"
                                },
                                {
                                    "Authors": "Rick Riordan, Haley Riordan"
                                },
                                {
                                    "Authors": "Robert Crais"
                                },
                                {
                                    "Authors": "Robert Greene"
                                },
                                {
                                    "Authors": "Robert Jordan, Brandon Sanderson"
                                },
                                {
                                    "Authors": "Robert Kirkman, Charlie Adlard"
                                },
                                {
                                    "Authors": "Robin LaFevers"
                                },
                                {
                                    "Authors": "Robin Sloan"
                                },
                                {
                                    "Authors": "Roland Smith"
                                },
                                {
                                    "Authors": "Rysa Walker"
                                },
                                {
                                    "Authors": "S.H. Kolee"
                                },
                                {
                                    "Authors": "Sally Bedell Smith"
                                },
                                {
                                    "Authors": "Sam Harris"
                                },
                                {
                                    "Authors": "Samantha Towle"
                                },
                                {
                                    "Authors": "Samantha Young"
                                },
                                {
                                    "Authors": "Sandra Brown, Stephen Lang"
                                },
                                {
                                    "Authors": "Sara Shepard"
                                },
                                {
                                    "Authors": "Sarah Crossan"
                                },
                                {
                                    "Authors": "Sarah J. Maas"
                                },
                                {
                                    "Authors": "Sarah Jio"
                                },
                                {
                                    "Authors": "Sarah MacLean"
                                },
                                {
                                    "Authors": "Sarah McCoy"
                                },
                                {
                                    "Authors": "Sarah Rees Brennan"
                                },
                                {
                                    "Authors": "Scott Jurek, Steve Friedman"
                                },
                                {
                                    "Authors": "Scott Snyder, Greg Capullo, Jonathan Glapion"
                                },
                                {
                                    "Authors": "Shannon Hale"
                                },
                                {
                                    "Authors": "Sheila Turnage"
                                },
                                {
                                    "Authors": "Shelly Crane"
                                },
                                {
                                    "Authors": "Sherrilyn Kenyon"
                                },
                                {
                                    "Authors": "Siobhan Vivian"
                                },
                                {
                                    "Authors": "Sophie Jordan"
                                },
                                {
                                    "Authors": "Stephen King, Jae Lee"
                                },
                                {
                                    "Authors": "Steve Sheinkin"
                                },
                                {
                                    "Authors": "Sui Ishida, 石田 スイ"
                                },
                                {
                                    "Authors": "Susan Cain"
                                },
                                {
                                    "Authors": "Susan Elia MacNeal"
                                },
                                {
                                    "Authors": "Susane Colasanti"
                                },
                                {
                                    "Authors": "Susannah Cahalan"
                                },
                                {
                                    "Authors": "Suzanne Wright"
                                },
                                {
                                    "Authors": "Sylvain Reynard"
                                },
                                {
                                    "Authors": "Sylvia Day"
                                },
                                {
                                    "Authors": "Tahereh Mafi"
                                },
                                {
                                    "Authors": "Tammara Webber"
                                },
                                {
                                    "Authors": "Tana French"
                                },
                                {
                                    "Authors": "Tara Sivec"
                                },
                                {
                                    "Authors": "Tara Sue Me"
                                },
                                {
                                    "Authors": "Tarryn Fisher"
                                },
                                {
                                    "Authors": "Teri Terry"
                                },
                                {
                                    "Authors": "Terry Goodkind"
                                },
                                {
                                    "Authors": "Terry Pratchett"
                                },
                                {
                                    "Authors": "Terry Pratchett, Stephen Baxter"
                                },
                                {
                                    "Authors": "Tess Gerritsen"
                                },
                                {
                                    "Authors": "Tessa Dare"
                                },
                                {
                                    "Authors": "The Harvard Lampoon"
                                },
                                {
                                    "Authors": "Tiffany Reisz"
                                },
                                {
                                    "Authors": "Tijan"
                                },
                                {
                                    "Authors": "Timur Vermes"
                                },
                                {
                                    "Authors": "Tina Reber"
                                },
                                {
                                    "Authors": "Tom Clancy, Mark Greaney"
                                },
                                {
                                    "Authors": "Tracy Brogan"
                                },
                                {
                                    "Authors": "Trish Doller"
                                },
                                {
                                    "Authors": "Tyler Hamilton, Daniel Coyle"
                                },
                                {
                                    "Authors": "Vaddey Ratner"
                                },
                                {
                                    "Authors": "Veronica Roth"
                                },
                                {
                                    "Authors": "Vince Flynn"
                                },
                                {
                                    "Authors": "W. Bruce Cameron"
                                },
                                {
                                    "Authors": "Wendy Higgins"
                                },
                                {
                                    "Authors": "Wiley Cash"
                                },
                                {
                                    "Authors": "Will Schwalbe"
                                },
                                {
                                    "Authors": "William Landay"
                                },
                                {
                                    "Authors": "Zadie Smith"
                                },
                                {
                                    "Authors": "أحلام مستغانمي, Ahlam Mosteghanemi"
                                },
                                {
                                    "Authors": "أحمد حلمي"
                                },
                                {
                                    "Authors": "أحمد خالد توفيق"
                                },
                                {
                                    "Authors": "أحمد مراد"
                                },
                                {
                                    "Authors": "تامر إبراهيم"
                                },
                                {
                                    "Authors": "خولة حمدي"
                                },
                                {
                                    "Authors": "سعود السنعوسي, Saud Alsanousi"
                                },
                                {
                                    "Authors": "عزالدين شكري فشير"
                                },
                                {
                                    "Authors": "محمد صادق"
                                },
                                {
                                    "Authors": "نور عبدالمجيد"
                                },
                                {
                                    "Authors": "يوسف زيدان, Youssef Ziedan"
                                }
                            ]
                        },
                        "text/html": [
                            "<table>",
                            "<tr><th>Authors</th></tr>",
                            "<tr><td>A. Meredith Walters</td></tr>",
                            "<tr><td>A.C. Gaughen</td></tr>",
                            "<tr><td>A.J. Jacobs</td></tr>",
                            "<tr><td>A.M. Homes</td></tr>",
                            "<tr><td>A.S. King</td></tr>",
                            "<tr><td>Abbi Glines</td></tr>",
                            "<tr><td>Adam Johnson</td></tr>",
                            "<tr><td>Adam Makos, Larry Alexander</td></tr>",
                            "<tr><td>Addison Moore</td></tr>",
                            "<tr><td>Adriana Trigiani</td></tr>",
                            "<tr><td>Aimee Carter</td></tr>",
                            "<tr><td>Aleatha Romig</td></tr>",
                            "<tr><td>Alexandra Adornetto</td></tr>",
                            "<tr><td>Alexandra Bracken</td></tr>",
                            "<tr><td>Ali Novak, Fallzswimmer</td></tr>",
                            "<tr><td>Alice Clayton</td></tr>",
                            "<tr><td>Alice Munro</td></tr>",
                            "<tr><td>Alison Bechdel</td></tr>",
                            "<tr><td>Ally Carter</td></tr>",
                            "<tr><td>Ally Condie</td></tr>",
                            "<tr><td>Amanda Coplin</td></tr>",
                            "<tr><td>Amanda Hocking</td></tr>",
                            "<tr><td>Amy A. Bartol</td></tr>",
                            "<tr><td>Amy Plum</td></tr>",
                            "<tr><td>Andrea Cremer</td></tr>",
                            "<tr><td>Andrew Solomon</td></tr>",
                            "<tr><td>Andy Cohen</td></tr>",
                            "<tr><td>Andy Weir</td></tr>",
                            "<tr><td>Ann Aguirre</td></tr>",
                            "<tr><td>Anna Banks</td></tr>",
                            "<tr><td>Anna Carey</td></tr>",
                            "<tr><td>Anna Quindlen</td></tr>",
                            "<tr><td>Anne Lamott</td></tr>",
                            "<tr><td>Anne Lamott, Sam Lamott</td></tr>",
                            "<tr><td>Anne Rice</td></tr>",
                            "<tr><td>Anne Tyler</td></tr>",
                            "<tr><td>Aprilynne Pike</td></tr>",
                            "<tr><td>Ashwin Sanghi</td></tr>",
                            "<tr><td>Ayana Mathis</td></tr>",
                            "<tr><td>B.A. Shapiro</td></tr>",
                            "<tr><td>Babe Walker</td></tr>",
                            "<tr><td>Barbara Kingsolver</td></tr>",
                            "<tr><td>Barry Lyga</td></tr>",
                            "<tr><td>Becca Fitzpatrick</td></tr>",
                            "<tr><td>Bella Forrest</td></tr>",
                            "<tr><td>Ben Aaronovitch</td></tr>",
                            "<tr><td>Ben Fountain</td></tr>",
                            "<tr><td>Ben H. Winters</td></tr>",
                            "<tr><td>Benedict Jacka</td></tr>",
                            "<tr><td>Benjamin Alire Sáenz</td></tr>",
                            "<tr><td>Beth Revis</td></tr>",
                            "<tr><td>Bill O'Reilly, Martin Dugard</td></tr>",
                            "<tr><td>Blaine Harden</td></tr>",
                            "<tr><td>Blake Crouch</td></tr>",
                            "<tr><td>Bob Goff</td></tr>",
                            "<tr><td>Brad Thor</td></tr>",
                            "<tr><td>Brandon Mull</td></tr>",
                            "<tr><td>Brandon Sanderson</td></tr>",
                            "<tr><td>Brené Brown</td></tr>",
                            "<tr><td>Brent Weeks</td></tr>",
                            "<tr><td>Brian Azzarello, Cliff Chiang, Tony Akins, Dan Green, Matthew Wilson, Jared K. Fletcher</td></tr>",
                            "<tr><td>Brian K. Vaughan, Fiona Staples</td></tr>",
                            "<tr><td>Brigid Kemmerer</td></tr>",
                            "<tr><td>Brodi Ashton</td></tr>",
                            "<tr><td>C.C. Hunter</td></tr>",
                            "<tr><td>C.J. Redwine</td></tr>",
                            "<tr><td>C.J. Roberts</td></tr>",
                            "<tr><td>Camron Wright</td></tr>",
                            "<tr><td>Caragh M. O'Brien</td></tr>",
                            "<tr><td>Carl Hiaasen</td></tr>",
                            "<tr><td>Carol Rifka Brunt</td></tr>",
                            "<tr><td>Carrie Jones</td></tr>",
                            "<tr><td>Cassandra Clare</td></tr>",
                            "<tr><td>Cassandra Clare, Hye-Kyung Baek</td></tr>",
                            "<tr><td>Cassie Dandridge Selleck</td></tr>",
                            "<tr><td>Catherine Bybee</td></tr>",
                            "<tr><td>Cathy Marie Buchanan</td></tr>",
                            "<tr><td>Cecelia Ahern</td></tr>",
                            "<tr><td>Chanda Hahn</td></tr>",
                            "<tr><td>Charlaine Harris</td></tr>",
                            "<tr><td>Charlotte Rogan</td></tr>",
                            "<tr><td>Chelsea M. Cameron</td></tr>",
                            "<tr><td>Cherrie Lynn</td></tr>",
                            "<tr><td>Cheryl McIntyre</td></tr>",
                            "<tr><td>Cheryl Strayed</td></tr>",
                            "<tr><td>Chris Bohjalian</td></tr>",
                            "<tr><td>Chris Cleave</td></tr>",
                            "<tr><td>Chris Colfer, Brandon Dorman</td></tr>",
                            "<tr><td>Chris Guillebeau</td></tr>",
                            "<tr><td>Chris Kyle, Scott McEwen, Jim DeFelice</td></tr>",
                            "<tr><td>Chris Pavone</td></tr>",
                            "<tr><td>Christine Zolendz</td></tr>",
                            "<tr><td>Christopher Hitchens</td></tr>",
                            "<tr><td>Christopher Moore</td></tr>",
                            "<tr><td>Cinda Williams Chima</td></tr>",
                            "<tr><td>Clayton M. Christensen, James Allworth, Karen Dillon</td></tr>",
                            "<tr><td>Clint Hill, Lisa McCubbin</td></tr>",
                            "<tr><td>Colleen Hoover</td></tr>",
                            "<tr><td>Colleen Houck</td></tr>",
                            "<tr><td>Colm Tóibín</td></tr>",
                            "<tr><td>Cora Carmack</td></tr>",
                            "<tr><td>Courtney Milan</td></tr>",
                            "<tr><td>Cynthia Hand</td></tr>",
                            "<tr><td>D.J. Molles</td></tr>",
                            "<tr><td>Dallas Hartwig, Melissa Hartwig</td></tr>",
                            "<tr><td>Dan Ariely</td></tr>",
                            "<tr><td>Dan Wells</td></tr>",
                            "<tr><td>Daniel H. Pink</td></tr>",
                            "<tr><td>Daniel O'Malley</td></tr>",
                            "<tr><td>Daniel Silva</td></tr>",
                            "<tr><td>Daron Acemoğlu, James A. Robinson</td></tr>",
                            "<tr><td>Darynda Jones</td></tr>",
                            "<tr><td>Dave Eggers</td></tr>",
                            "<tr><td>David Baldacci</td></tr>",
                            "<tr><td>David Byrne</td></tr>",
                            "<tr><td>David Levithan</td></tr>",
                            "<tr><td>David R. Gillham</td></tr>",
                            "<tr><td>David Wong</td></tr>",
                            "<tr><td>Dean Koontz</td></tr>",
                            "<tr><td>Deb Perelman</td></tr>",
                            "<tr><td>Debbie Macomber</td></tr>",
                            "<tr><td>Deborah Feldman</td></tr>",
                            "<tr><td>Deborah Harkness</td></tr>",
                            "<tr><td>Dennis Lehane</td></tr>",
                            "<tr><td>Derf Backderf</td></tr>",
                            "<tr><td>Diana Gabaldon</td></tr>",
                            "<tr><td>Diane Chamberlain</td></tr>",
                            "<tr><td>Donna Russo Morin</td></tr>",
                            "<tr><td>Douglas Preston, Lincoln Child</td></tr>",
                            "<tr><td>E.L. James</td></tr>",
                            "<tr><td>E.L. Montes</td></tr>",
                            "<tr><td>Eben Alexander</td></tr>",
                            "<tr><td>Elena Ferrante, Ann Goldstein</td></tr>",
                            "<tr><td>Elin Hilderbrand</td></tr>",
                            "<tr><td>Elizabeth Gilbert</td></tr>",
                            "<tr><td>Elizabeth Norris</td></tr>",
                            "<tr><td>Elizabeth Wein</td></tr>",
                            "<tr><td>Ellen Hopkins</td></tr>",
                            "<tr><td>Ellen Marie Wiseman</td></tr>",
                            "<tr><td>Ellis Avery</td></tr>",
                            "<tr><td>Emily Giffin</td></tr>",
                            "<tr><td>Emily M. Danforth</td></tr>",
                            "<tr><td>Emily Seife</td></tr>",
                            "<tr><td>Emily Snow</td></tr>",
                            "<tr><td>Emmy Laybourne</td></tr>",
                            "<tr><td>Eoin Colfer</td></tr>",
                            "<tr><td>Eowyn Ivey</td></tr>",
                            "<tr><td>Eric Blehm</td></tr>",
                            "<tr><td>Erica Stevens</td></tr>",
                            "<tr><td>Fisher Amelie</td></tr>",
                            "<tr><td>Fredrik Backman, Henning Koch</td></tr>",
                            "<tr><td>G. Willow Wilson</td></tr>",
                            "<tr><td>Gail Carriger</td></tr>",
                            "<tr><td>Gary Keller, Jay Papasan</td></tr>",
                            "<tr><td>Gena Showalter</td></tr>",
                            "<tr><td>Gene Luen Yang, Bryan Konietzko, Michael Dante DiMartino, Gurihiru</td></tr>",
                            "<tr><td>Gene Luen Yang, Michael Dante DiMartino, Gurihiru, Bryan Konietzko</td></tr>",
                            "<tr><td>Gennifer Albin</td></tr>",
                            "<tr><td>Geoff Johns, Gary Frank, Jon Sibal, Brad Anderson, Rob Leigh</td></tr>",
                            "<tr><td>Gillian Flynn</td></tr>",
                            "<tr><td>Gina L. Maxwell</td></tr>",
                            "<tr><td>Gordon Korman</td></tr>",
                            "<tr><td>Gretchen Rubin, Käthe Mazur</td></tr>",
                            "<tr><td>Harlan Coben</td></tr>",
                            "<tr><td>Hazel Gaynor</td></tr>",
                            "<tr><td>Heather Gudenkauf</td></tr>",
                            "<tr><td>Heidi McLaughlin</td></tr>",
                            "<tr><td>Helen Bryan</td></tr>",
                            "<tr><td>Hilary Mantel</td></tr>",
                            "<tr><td>Hope Larson, Madeleine L'Engle</td></tr>",
                            "<tr><td>Hugh Howey</td></tr>",
                            "<tr><td>Huntley Fitzpatrick</td></tr>",
                            "<tr><td>Iain M. Banks</td></tr>",
                            "<tr><td>Ian McEwan</td></tr>",
                            "<tr><td>Ilona Andrews</td></tr>",
                            "<tr><td>J. Lynn, Jennifer L. Armentrout</td></tr>",
                            "<tr><td>J. Sterling</td></tr>",
                            "<tr><td>J.A. Redmerski</td></tr>",
                            "<tr><td>J.D. Robb</td></tr>",
                            "<tr><td>J.K. Rowling</td></tr>",
                            "<tr><td>J.R. Ward</td></tr>",
                            "<tr><td>Jack McCallum</td></tr>",
                            "<tr><td>Jacob Tomsky</td></tr>",
                            "<tr><td>James Bowen</td></tr>",
                            "<tr><td>James Dashner</td></tr>",
                            "<tr><td>James Luceno</td></tr>",
                            "<tr><td>James Patterson</td></tr>",
                            "<tr><td>James Patterson, David Ellis</td></tr>",
                            "<tr><td>James Patterson, Mark T. Sullivan</td></tr>",
                            "<tr><td>James Patterson, Marshall Karp</td></tr>",
                            "<tr><td>James Patterson, Maxine Paetro</td></tr>",
                            "<tr><td>James Patterson, Michael Ledwidge</td></tr>",
                            "<tr><td>James Rollins</td></tr>",
                            "<tr><td>James S.A. Corey</td></tr>",
                            "<tr><td>Jami Attenberg</td></tr>",
                            "<tr><td>Jane Green</td></tr>",
                            "<tr><td>Janet Evanovich</td></tr>",
                            "<tr><td>Jay Crownover, Charlotte Connan de vries</td></tr>",
                            "<tr><td>Jeaniene Frost</td></tr>",
                            "<tr><td>Jeff Kinney</td></tr>",
                            "<tr><td>Jeffrey Archer</td></tr>",
                            "<tr><td>Jeffrey Brown</td></tr>",
                            "<tr><td>Jennifer A. Nielsen</td></tr>",
                            "<tr><td>Jennifer E. Smith</td></tr>",
                            "<tr><td>Jennifer Echols</td></tr>",
                            "<tr><td>Jennifer L. Armentrout</td></tr>",
                            "<tr><td>Jennifer Probst</td></tr>",
                            "<tr><td>Jennifer Weiner</td></tr>",
                            "<tr><td>Jenny  Lawson</td></tr>",
                            "<tr><td>Jenny Han, Siobhan Vivian</td></tr>",
                            "<tr><td>Jess Rothenberg</td></tr>",
                            "<tr><td>Jess Walter</td></tr>",
                            "<tr><td>Jesse Andrews</td></tr>",
                            "<tr><td>Jessica Anthony, Rodrigo Corral</td></tr>",
                            "<tr><td>Jessica Sorensen</td></tr>",
                            "<tr><td>Jim Butcher</td></tr>",
                            "<tr><td>Jodi Daynard</td></tr>",
                            "<tr><td>Jodi Ellen Malpas</td></tr>",
                            "<tr><td>Jodi Lynn Anderson</td></tr>",
                            "<tr><td>Jodi Meadows</td></tr>",
                            "<tr><td>Jodi Picoult</td></tr>",
                            "<tr><td>Jodi Picoult, Samantha van Leer</td></tr>",
                            "<tr><td>Joe Abercrombie</td></tr>",
                            "<tr><td>John Flanagan</td></tr>",
                            "<tr><td>John Green</td></tr>",
                            "<tr><td>John Grisham</td></tr>",
                            "<tr><td>John Irving</td></tr>",
                            "<tr><td>John Lanchester</td></tr>",
                            "<tr><td>John Sandford</td></tr>",
                            "<tr><td>John Scalzi</td></tr>",
                            "<tr><td>Jojo Moyes</td></tr>",
                            "<tr><td>Jon Klassen</td></tr>",
                            "<tr><td>Jon Meacham</td></tr>",
                            "<tr><td>Jonah Lehrer</td></tr>",
                            "<tr><td>Jonathan Haidt</td></tr>",
                            "<tr><td>Jonathan Kellerman</td></tr>",
                            "<tr><td>Josephine Angelini</td></tr>",
                            "<tr><td>Julianna Baggott</td></tr>",
                            "<tr><td>Julianne Donaldson</td></tr>",
                            "<tr><td>Julie James</td></tr>",
                            "<tr><td>Julie Kagawa</td></tr>",
                            "<tr><td>Julie Kibler</td></tr>",
                            "<tr><td>Junot Díaz</td></tr>",
                            "<tr><td>Justin Cronin</td></tr>",
                            "<tr><td>Justin Halpern</td></tr>",
                            "<tr><td>K.A. Linde</td></tr>",
                            "<tr><td>K.A. Tucker</td></tr>",
                            "<tr><td>Kami Garcia, Margaret Stohl</td></tr>",
                            "<tr><td>Karen Marie Moning</td></tr>",
                            "<tr><td>Karen Thompson Walker</td></tr>",
                            "<tr><td>Karin Slaughter</td></tr>",
                            "<tr><td>Kate Alcott</td></tr>",
                            "<tr><td>Kate Egan</td></tr>",
                            "<tr><td>Kate Morton</td></tr>",
                            "<tr><td>Katee Robert</td></tr>",
                            "<tr><td>Katherine Applegate, Patricia Castelao</td></tr>",
                            "<tr><td>Katherine Boo</td></tr>",
                            "<tr><td>Kathy Reichs</td></tr>",
                            "<tr><td>Katie Ashley</td></tr>",
                            "<tr><td>Katie McGarry</td></tr>",
                            "<tr><td>Katja Millay</td></tr>",
                            "<tr><td>Kelley Armstrong</td></tr>",
                            "<tr><td>Kelly Elliott</td></tr>",
                            "<tr><td>Ken Follett</td></tr>",
                            "<tr><td>Kendare Blake</td></tr>",
                            "<tr><td>Kendra Elliot</td></tr>",
                            "<tr><td>Kevin Hearne</td></tr>",
                            "<tr><td>Kevin Powers</td></tr>",
                            "<tr><td>Khaled Hosseini</td></tr>",
                            "<tr><td>Kiera Cass</td></tr>",
                            "<tr><td>Kiersten White</td></tr>",
                            "<tr><td>Kim Harrison</td></tr>",
                            "<tr><td>Kim Stanley Robinson</td></tr>",
                            "<tr><td>Kirsty Moseley</td></tr>",
                            "<tr><td>Kitty French</td></tr>",
                            "<tr><td>Kody Keplinger</td></tr>",
                            "<tr><td>Kresley Cole</td></tr>",
                            "<tr><td>Kristen Ashley</td></tr>",
                            "<tr><td>Kristen Proby</td></tr>",
                            "<tr><td>Kristen Simmons</td></tr>",
                            "<tr><td>Kristin Cashore</td></tr>",
                            "<tr><td>Kristin Hannah</td></tr>",
                            "<tr><td>Kristin Levine</td></tr>",
                            "<tr><td>L.A. Fiore</td></tr>",
                            "<tr><td>L.D. Davis</td></tr>",
                            "<tr><td>Lacey Weatherford</td></tr>",
                            "<tr><td>Laini Taylor</td></tr>",
                            "<tr><td>Lara Adrian</td></tr>",
                            "<tr><td>Laura Moriarty</td></tr>",
                            "<tr><td>Laurell K. Hamilton</td></tr>",
                            "<tr><td>Lauren DeStefano</td></tr>",
                            "<tr><td>Lauren Groff</td></tr>",
                            "<tr><td>Lauren Kate</td></tr>",
                            "<tr><td>Lauren Morrill</td></tr>",
                            "<tr><td>Lauren Oliver</td></tr>",
                            "<tr><td>Lawrence M. Krauss, Richard Dawkins</td></tr>",
                            "<tr><td>Lee Child</td></tr>",
                            "<tr><td>Lee Child, Dick Hill</td></tr>",
                            "<tr><td>Leigh Bardugo</td></tr>",
                            "<tr><td>Lemony Snicket, Seth</td></tr>",
                            "<tr><td>Libba Bray</td></tr>",
                            "<tr><td>Linda Lafferty</td></tr>",
                            "<tr><td>Linda Sue Park</td></tr>",
                            "<tr><td>Lisa Gardner</td></tr>",
                            "<tr><td>Lisa Genova</td></tr>",
                            "<tr><td>Lisa O'Donnell</td></tr>",
                            "<tr><td>Lisa Renee Jones</td></tr>",
                            "<tr><td>Lisa Scottoline</td></tr>",
                            "<tr><td>Lissa Price</td></tr>",
                            "<tr><td>Liz Moore</td></tr>",
                            "<tr><td>Liza Klaussmann</td></tr>",
                            "<tr><td>Lois Lowry</td></tr>",
                            "<tr><td>Louise Erdrich</td></tr>",
                            "<tr><td>Louise Penny</td></tr>",
                            "<tr><td>Lynda Mullaly Hunt</td></tr>",
                            "<tr><td>M. Leighton</td></tr>",
                            "<tr><td>M.L. Stedman</td></tr>",
                            "<tr><td>Mac Barnett, Jon Klassen</td></tr>",
                            "<tr><td>Madeline Sheehan</td></tr>",
                            "<tr><td>Maeve Binchy</td></tr>",
                            "<tr><td>Maggie Shipstead</td></tr>",
                            "<tr><td>Maggie Stiefvater</td></tr>",
                            "<tr><td>Malala Yousafzai, Christina Lamb</td></tr>",
                            "<tr><td>Marcus Samuelsson</td></tr>",
                            "<tr><td>Margot Livesey</td></tr>",
                            "<tr><td>Maria Semple</td></tr>",
                            "<tr><td>Maria V. Snyder</td></tr>",
                            "<tr><td>Marie Lu</td></tr>",
                            "<tr><td>Marissa Meyer</td></tr>",
                            "<tr><td>Mark  Lawrence</td></tr>",
                            "<tr><td>Mark Haddon</td></tr>",
                            "<tr><td>Mark Owen, Kevin Maurer</td></tr>",
                            "<tr><td>Mary Kay Andrews</td></tr>",
                            "<tr><td>Matthew Dicks</td></tr>",
                            "<tr><td>Matthew Inman, The Oatmeal</td></tr>",
                            "<tr><td>Maya Banks</td></tr>",
                            "<tr><td>Meg Cabot</td></tr>",
                            "<tr><td>Meg Jay</td></tr>",
                            "<tr><td>Megan Abbott</td></tr>",
                            "<tr><td>Mhairi McFarlane</td></tr>",
                            "<tr><td>Michael  Grant</td></tr>",
                            "<tr><td>Michael Chabon</td></tr>",
                            "<tr><td>Michael Connelly</td></tr>",
                            "<tr><td>Michael J. Sullivan</td></tr>",
                            "<tr><td>Michael Scott</td></tr>",
                            "<tr><td>Michelle A. Valentine</td></tr>",
                            "<tr><td>Michelle Hodkin</td></tr>",
                            "<tr><td>Miles  Cameron</td></tr>",
                            "<tr><td>Mira Grant</td></tr>",
                            "<tr><td>Mira Lyn Kelly</td></tr>",
                            "<tr><td>Miranda Hart</td></tr>",
                            "<tr><td>Miranda Kenneally</td></tr>",
                            "<tr><td>Mitch Albom</td></tr>",
                            "<tr><td>Moira Young</td></tr>",
                            "<tr><td>Molly McAdams</td></tr>",
                            "<tr><td>Morgan Matson</td></tr>",
                            "<tr><td>Morgan Rhodes, Michelle Rowen</td></tr>",
                            "<tr><td>Morgan Rice</td></tr>",
                            "<tr><td>Nassim Nicholas Taleb</td></tr>",
                            "<tr><td>Natasha Anders</td></tr>",
                            "<tr><td>Natasha Preston</td></tr>",
                            "<tr><td>Nate Silver</td></tr>",
                            "<tr><td>Neal Shusterman</td></tr>",
                            "<tr><td>Nelson DeMille</td></tr>",
                            "<tr><td>Nicholas Sparks</td></tr>",
                            "<tr><td>Nicole  Williams</td></tr>",
                            "<tr><td>Nora Roberts</td></tr>",
                            "<tr><td>Nora Roberts, MacLeod Andrews</td></tr>",
                            "<tr><td>Nyrae Dawn</td></tr>",
                            "<tr><td>Olivia Cunning</td></tr>",
                            "<tr><td>Orson Scott Card, Aaron Johnston</td></tr>",
                            "<tr><td>P.C. Cast, Kristin Cast</td></tr>",
                            "<tr><td>P.D. James</td></tr>",
                            "<tr><td>Pamela Druckerman, Abby Craden</td></tr>",
                            "<tr><td>Patricia Briggs</td></tr>",
                            "<tr><td>Patricia Cornwell</td></tr>",
                            "<tr><td>Patricia Harman</td></tr>",
                            "<tr><td>Paul Tough</td></tr>",
                            "<tr><td>Paulo Coelho, Margaret Jull Costa</td></tr>",
                            "<tr><td>Peter Clines</td></tr>",
                            "<tr><td>Peter F. Hamilton</td></tr>",
                            "<tr><td>Peter Heller</td></tr>",
                            "<tr><td>Peter Lerangis</td></tr>",
                            "<tr><td>Philip Pullman, Jacob Grimm, Wilhelm Grimm</td></tr>",
                            "<tr><td>Philipp Meyer</td></tr>",
                            "<tr><td>Philippa Gregory, Mirjana Valent</td></tr>",
                            "<tr><td>Pittacus Lore</td></tr>",
                            "<tr><td>Quinn Loftis</td></tr>",
                            "<tr><td>R.D. Ronald</td></tr>",
                            "<tr><td>R.J. Palacio</td></tr>",
                            "<tr><td>R.K. Lilley</td></tr>",
                            "<tr><td>R.L. Mathewson</td></tr>",
                            "<tr><td>Rachel Caine</td></tr>",
                            "<tr><td>Rachel Dratch</td></tr>",
                            "<tr><td>Rachel Hartman</td></tr>",
                            "<tr><td>Rachel Hauck</td></tr>",
                            "<tr><td>Rachel Hawkins</td></tr>",
                            "<tr><td>Rachel Joyce</td></tr>",
                            "<tr><td>Rachel Maddow</td></tr>",
                            "<tr><td>Rachel Renée Russell</td></tr>",
                            "<tr><td>Rae Carson</td></tr>",
                            "<tr><td>Raina Telgemeier, Gurihiru</td></tr>",
                            "<tr><td>Raine Miller</td></tr>",
                            "<tr><td>Ramez Naam</td></tr>",
                            "<tr><td>Rebecca Donovan</td></tr>",
                            "<tr><td>Rebecca Stead</td></tr>",
                            "<tr><td>Rhonda Byrne</td></tr>",
                            "<tr><td>Richard Ford</td></tr>",
                            "<tr><td>Richard Paul Evans</td></tr>",
                            "<tr><td>Richelle Mead</td></tr>",
                            "<tr><td>Rick Riordan</td></tr>",
                            "<tr><td>Rick Riordan, Haley Riordan</td></tr>",
                            "<tr><td>Robert Crais</td></tr>",
                            "<tr><td>Robert Greene</td></tr>",
                            "<tr><td>Robert Jordan, Brandon Sanderson</td></tr>",
                            "<tr><td>Robert Kirkman, Charlie Adlard</td></tr>",
                            "<tr><td>Robin LaFevers</td></tr>",
                            "<tr><td>Robin Sloan</td></tr>",
                            "<tr><td>Roland Smith</td></tr>",
                            "<tr><td>Rysa Walker</td></tr>",
                            "<tr><td>S.H. Kolee</td></tr>",
                            "<tr><td>Sally Bedell Smith</td></tr>",
                            "<tr><td>Sam Harris</td></tr>",
                            "<tr><td>Samantha Towle</td></tr>",
                            "<tr><td>Samantha Young</td></tr>",
                            "<tr><td>Sandra Brown, Stephen Lang</td></tr>",
                            "<tr><td>Sara Shepard</td></tr>",
                            "<tr><td>Sarah Crossan</td></tr>",
                            "<tr><td>Sarah J. Maas</td></tr>",
                            "<tr><td>Sarah Jio</td></tr>",
                            "<tr><td>Sarah MacLean</td></tr>",
                            "<tr><td>Sarah McCoy</td></tr>",
                            "<tr><td>Sarah Rees Brennan</td></tr>",
                            "<tr><td>Scott Jurek, Steve Friedman</td></tr>",
                            "<tr><td>Scott Snyder, Greg Capullo, Jonathan Glapion</td></tr>",
                            "<tr><td>Shannon Hale</td></tr>",
                            "<tr><td>Sheila Turnage</td></tr>",
                            "<tr><td>Shelly Crane</td></tr>",
                            "<tr><td>Sherrilyn Kenyon</td></tr>",
                            "<tr><td>Siobhan Vivian</td></tr>",
                            "<tr><td>Sophie Jordan</td></tr>",
                            "<tr><td>Stephen King, Jae Lee</td></tr>",
                            "<tr><td>Steve Sheinkin</td></tr>",
                            "<tr><td>Sui Ishida, 石田 スイ</td></tr>",
                            "<tr><td>Susan Cain</td></tr>",
                            "<tr><td>Susan Elia MacNeal</td></tr>",
                            "<tr><td>Susane Colasanti</td></tr>",
                            "<tr><td>Susannah Cahalan</td></tr>",
                            "<tr><td>Suzanne Wright</td></tr>",
                            "<tr><td>Sylvain Reynard</td></tr>",
                            "<tr><td>Sylvia Day</td></tr>",
                            "<tr><td>Tahereh Mafi</td></tr>",
                            "<tr><td>Tammara Webber</td></tr>",
                            "<tr><td>Tana French</td></tr>",
                            "<tr><td>Tara Sivec</td></tr>",
                            "<tr><td>Tara Sue Me</td></tr>",
                            "<tr><td>Tarryn Fisher</td></tr>",
                            "<tr><td>Teri Terry</td></tr>",
                            "<tr><td>Terry Goodkind</td></tr>",
                            "<tr><td>Terry Pratchett</td></tr>",
                            "<tr><td>Terry Pratchett, Stephen Baxter</td></tr>",
                            "<tr><td>Tess Gerritsen</td></tr>",
                            "<tr><td>Tessa Dare</td></tr>",
                            "<tr><td>The Harvard Lampoon</td></tr>",
                            "<tr><td>Tiffany Reisz</td></tr>",
                            "<tr><td>Tijan</td></tr>",
                            "<tr><td>Timur Vermes</td></tr>",
                            "<tr><td>Tina Reber</td></tr>",
                            "<tr><td>Tom Clancy, Mark Greaney</td></tr>",
                            "<tr><td>Tracy Brogan</td></tr>",
                            "<tr><td>Trish Doller</td></tr>",
                            "<tr><td>Tyler Hamilton, Daniel Coyle</td></tr>",
                            "<tr><td>Vaddey Ratner</td></tr>",
                            "<tr><td>Veronica Roth</td></tr>",
                            "<tr><td>Vince Flynn</td></tr>",
                            "<tr><td>W. Bruce Cameron</td></tr>",
                            "<tr><td>Wendy Higgins</td></tr>",
                            "<tr><td>Wiley Cash</td></tr>",
                            "<tr><td>Will Schwalbe</td></tr>",
                            "<tr><td>William Landay</td></tr>",
                            "<tr><td>Zadie Smith</td></tr>",
                            "<tr><td>أحلام مستغانمي, Ahlam Mosteghanemi</td></tr>",
                            "<tr><td>أحمد حلمي</td></tr>",
                            "<tr><td>أحمد خالد توفيق</td></tr>",
                            "<tr><td>أحمد مراد</td></tr>",
                            "<tr><td>تامر إبراهيم</td></tr>",
                            "<tr><td>خولة حمدي</td></tr>",
                            "<tr><td>سعود السنعوسي, Saud Alsanousi</td></tr>",
                            "<tr><td>عزالدين شكري فشير</td></tr>",
                            "<tr><td>محمد صادق</td></tr>",
                            "<tr><td>نور عبدالمجيد</td></tr>",
                            "<tr><td>يوسف زيدان, Youssef Ziedan</td></tr>",
                            "</table>"
                        ]
                    }
                }
            ],
            "execution_count": 46
        },
        {
            "cell_type": "markdown",
            "source": [
                "Your Question: Click here to add"
            ],
            "metadata": {
                "azdata_cell_guid": "9386ad04-a016-44d4-8c5c-d25a102d47b4"
            }
        },
        {
            "cell_type": "code",
            "source": [
                "-- Return the shortest original book title published, including the author and publication date.\n",
                "select top 1 original_title as \"Book Title\", authors as \"Author\", original_publication_year as \"Date Published\" from books where len(original_title) = (select min(len(original_title))from books)"
            ],
            "metadata": {
                "azdata_cell_guid": "15f249cf-aad7-468d-92e1-429b2a09f285",
                "language": "sql"
            },
            "outputs": [
                {
                    "output_type": "display_data",
                    "data": {
                        "text/html": "Warning: Null value is eliminated by an aggregate or other SET operation."
                    },
                    "metadata": {}
                },
                {
                    "output_type": "display_data",
                    "data": {
                        "text/html": "(1 row affected)"
                    },
                    "metadata": {}
                },
                {
                    "output_type": "display_data",
                    "data": {
                        "text/html": "Total execution time: 00:00:00.080"
                    },
                    "metadata": {}
                },
                {
                    "output_type": "execute_result",
                    "metadata": {},
                    "execution_count": 49,
                    "data": {
                        "application/vnd.dataresource+json": {
                            "schema": {
                                "fields": [
                                    {
                                        "name": "Book Title"
                                    },
                                    {
                                        "name": "Author"
                                    },
                                    {
                                        "name": "Date Published"
                                    }
                                ]
                            },
                            "data": [
                                {
                                    "Book Title": "X",
                                    "Author": "Sue Grafton",
                                    "Date Published": "2015"
                                }
                            ]
                        },
                        "text/html": [
                            "<table>",
                            "<tr><th>Book Title</th><th>Author</th><th>Date Published</th></tr>",
                            "<tr><td>X</td><td>Sue Grafton</td><td>2015</td></tr>",
                            "</table>"
                        ]
                    }
                }
            ],
            "execution_count": 49
        },
        {
            "cell_type": "markdown",
            "source": [
                "**Some Question Examples:**\n",
                "\n",
                "Write a query that returns the longest title?\n",
                "\n",
                "Which Author has written the most books?  \n",
                "\n",
                "Top  ten books written the year I was born?"
            ],
            "metadata": {
                "azdata_cell_guid": "7160362b-7127-4123-bd1d-95a94ae38a07"
            }
        }
    ]
}